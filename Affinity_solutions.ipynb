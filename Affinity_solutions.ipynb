{
  "nbformat": 4,
  "nbformat_minor": 0,
  "metadata": {
    "colab": {
      "name": "Affinity_solutions.ipynb",
      "provenance": [],
      "authorship_tag": "ABX9TyO6TKC2SH5p4ACjziXvUDRx",
      "include_colab_link": true
    },
    "kernelspec": {
      "name": "python3",
      "display_name": "Python 3"
    }
  },
  "cells": [
    {
      "cell_type": "markdown",
      "metadata": {
        "id": "view-in-github",
        "colab_type": "text"
      },
      "source": [
        "<a href=\"https://colab.research.google.com/github/Ranjani94/Affinity_solutions/blob/master/Affinity_solutions.ipynb\" target=\"_parent\"><img src=\"https://colab.research.google.com/assets/colab-badge.svg\" alt=\"Open In Colab\"/></a>"
      ]
    },
    {
      "cell_type": "code",
      "metadata": {
        "id": "3nrBFEWCgvwz",
        "colab_type": "code",
        "colab": {
          "base_uri": "https://localhost:8080/",
          "height": 34
        },
        "outputId": "2f01fed2-c588-41e8-e520-6a8fc933fc7f"
      },
      "source": [
        "from google.colab import drive\n",
        "drive.mount('/content/gdrive', force_remount=True)\n",
        "root_dir = \"/content/gdrive/My Drive/\""
      ],
      "execution_count": 201,
      "outputs": [
        {
          "output_type": "stream",
          "text": [
            "Mounted at /content/gdrive\n"
          ],
          "name": "stdout"
        }
      ]
    },
    {
      "cell_type": "code",
      "metadata": {
        "id": "DPu4nv2Uijml",
        "colab_type": "code",
        "colab": {}
      },
      "source": [
        "import pandas as pd"
      ],
      "execution_count": 0,
      "outputs": []
    },
    {
      "cell_type": "code",
      "metadata": {
        "id": "rrBxMsmrjmm7",
        "colab_type": "code",
        "colab": {}
      },
      "source": [
        "file_path = root_dir + 'Exercise.xlsx'\n",
        "dfs = pd.read_excel(file_path, sheet_name='Sheet1')\n",
        "dfs.to_csv('Exercise.csv', index=False)"
      ],
      "execution_count": 0,
      "outputs": []
    },
    {
      "cell_type": "code",
      "metadata": {
        "id": "QMmCsjV2kOEV",
        "colab_type": "code",
        "colab": {}
      },
      "source": [
        "df = pd.read_csv('Exercise.csv')"
      ],
      "execution_count": 0,
      "outputs": []
    },
    {
      "cell_type": "code",
      "metadata": {
        "id": "zQX0tTF3kjbN",
        "colab_type": "code",
        "colab": {
          "base_uri": "https://localhost:8080/",
          "height": 545
        },
        "outputId": "174f8b0e-a2e5-410b-cfd0-e139c55ec307"
      },
      "source": [
        "df"
      ],
      "execution_count": 205,
      "outputs": [
        {
          "output_type": "execute_result",
          "data": {
            "text/html": [
              "<div>\n",
              "<style scoped>\n",
              "    .dataframe tbody tr th:only-of-type {\n",
              "        vertical-align: middle;\n",
              "    }\n",
              "\n",
              "    .dataframe tbody tr th {\n",
              "        vertical-align: top;\n",
              "    }\n",
              "\n",
              "    .dataframe thead th {\n",
              "        text-align: right;\n",
              "    }\n",
              "</style>\n",
              "<table border=\"1\" class=\"dataframe\">\n",
              "  <thead>\n",
              "    <tr style=\"text-align: right;\">\n",
              "      <th></th>\n",
              "      <th>Input</th>\n",
              "    </tr>\n",
              "  </thead>\n",
              "  <tbody>\n",
              "    <tr>\n",
              "      <th>0</th>\n",
              "      <td>paypal * US - Doordash</td>\n",
              "    </tr>\n",
              "    <tr>\n",
              "      <th>1</th>\n",
              "      <td>payal * US NY - Doodash</td>\n",
              "    </tr>\n",
              "    <tr>\n",
              "      <th>2</th>\n",
              "      <td>sq* NJ SEAMLSS 2017777777</td>\n",
              "    </tr>\n",
              "    <tr>\n",
              "      <th>3</th>\n",
              "      <td>SEAMLSS MCd</td>\n",
              "    </tr>\n",
              "    <tr>\n",
              "      <th>4</th>\n",
              "      <td>McDOnalds UBEREATS</td>\n",
              "    </tr>\n",
              "    <tr>\n",
              "      <th>5</th>\n",
              "      <td>Giftcard CA US</td>\n",
              "    </tr>\n",
              "    <tr>\n",
              "      <th>6</th>\n",
              "      <td>Hotels.com Expedia Sheraton</td>\n",
              "    </tr>\n",
              "    <tr>\n",
              "      <th>7</th>\n",
              "      <td>Chipotl Postmates</td>\n",
              "    </tr>\n",
              "    <tr>\n",
              "      <th>8</th>\n",
              "      <td>paypal * US - Grubhub</td>\n",
              "    </tr>\n",
              "    <tr>\n",
              "      <th>9</th>\n",
              "      <td>payal * US NY - ubereats</td>\n",
              "    </tr>\n",
              "    <tr>\n",
              "      <th>10</th>\n",
              "      <td>sq* NJ doordash 5745745745</td>\n",
              "    </tr>\n",
              "    <tr>\n",
              "      <th>11</th>\n",
              "      <td>SEAMLSS Subway</td>\n",
              "    </tr>\n",
              "    <tr>\n",
              "      <th>12</th>\n",
              "      <td>wendy's UBEREATS</td>\n",
              "    </tr>\n",
              "    <tr>\n",
              "      <th>13</th>\n",
              "      <td>Giftcard TX US</td>\n",
              "    </tr>\n",
              "    <tr>\n",
              "      <th>14</th>\n",
              "      <td>booking.com priceline marriott</td>\n",
              "    </tr>\n",
              "    <tr>\n",
              "      <th>15</th>\n",
              "      <td>chickfila Postmates</td>\n",
              "    </tr>\n",
              "  </tbody>\n",
              "</table>\n",
              "</div>"
            ],
            "text/plain": [
              "                             Input\n",
              "0           paypal * US - Doordash\n",
              "1          payal * US NY - Doodash\n",
              "2        sq* NJ SEAMLSS 2017777777\n",
              "3                      SEAMLSS MCd\n",
              "4               McDOnalds UBEREATS\n",
              "5                   Giftcard CA US\n",
              "6      Hotels.com Expedia Sheraton\n",
              "7                Chipotl Postmates\n",
              "8            paypal * US - Grubhub\n",
              "9         payal * US NY - ubereats\n",
              "10      sq* NJ doordash 5745745745\n",
              "11                  SEAMLSS Subway\n",
              "12                wendy's UBEREATS\n",
              "13                  Giftcard TX US\n",
              "14  booking.com priceline marriott\n",
              "15             chickfila Postmates"
            ]
          },
          "metadata": {
            "tags": []
          },
          "execution_count": 205
        }
      ]
    },
    {
      "cell_type": "code",
      "metadata": {
        "id": "Fmn4n90SNqYz",
        "colab_type": "code",
        "colab": {
          "base_uri": "https://localhost:8080/",
          "height": 85
        },
        "outputId": "19632272-4184-4e78-83a3-c3e8f52d2d2c"
      },
      "source": [
        "import re\n",
        "import nltk\n",
        "nltk.download('punkt')\n",
        "from nltk.stem import WordNetLemmatizer\n",
        "from nltk.corpus import stopwords\n",
        "nltk.download('wordnet')\n",
        "\n",
        "def cleaning(raw_text):\n",
        "    import nltk\n",
        "    \n",
        "    # 1. Remove non-letters/Special Characters and Punctuations\n",
        "    # text = re.sub(\"[^a-zA-Z0-9]\", \" \", raw_text)\n",
        "    chars = ['*', '-',\"'\"]\n",
        "    for i in chars:\n",
        "      raw_text = raw_text.replace(i,'')\n",
        "      # print(raw_text)\n",
        "      \n",
        "\n",
        "    \n",
        "    # 2. Convert to lower case.\n",
        "    text =  raw_text.lower()\n",
        "\n",
        "    # 3. Remove Whitespace.\n",
        "    text = text.rstrip()\n",
        "    text = text.lstrip()\n",
        "    \n",
        "    # 4. Tokenize.\n",
        "    text = nltk.word_tokenize(text)\n",
        "\n",
        "  \n",
        "    return \" \".join(text)"
      ],
      "execution_count": 206,
      "outputs": [
        {
          "output_type": "stream",
          "text": [
            "[nltk_data] Downloading package punkt to /root/nltk_data...\n",
            "[nltk_data]   Package punkt is already up-to-date!\n",
            "[nltk_data] Downloading package wordnet to /root/nltk_data...\n",
            "[nltk_data]   Package wordnet is already up-to-date!\n"
          ],
          "name": "stdout"
        }
      ]
    },
    {
      "cell_type": "code",
      "metadata": {
        "id": "yivZmViiOnuT",
        "colab_type": "code",
        "colab": {}
      },
      "source": [
        "df['Clean_Input'] = df['Input'].apply(cleaning)"
      ],
      "execution_count": 0,
      "outputs": []
    },
    {
      "cell_type": "code",
      "metadata": {
        "id": "iBIH66l8O-xe",
        "colab_type": "code",
        "colab": {
          "base_uri": "https://localhost:8080/",
          "height": 545
        },
        "outputId": "c6a4a454-b66a-4719-81df-a46cb8ca97e6"
      },
      "source": [
        "df"
      ],
      "execution_count": 208,
      "outputs": [
        {
          "output_type": "execute_result",
          "data": {
            "text/html": [
              "<div>\n",
              "<style scoped>\n",
              "    .dataframe tbody tr th:only-of-type {\n",
              "        vertical-align: middle;\n",
              "    }\n",
              "\n",
              "    .dataframe tbody tr th {\n",
              "        vertical-align: top;\n",
              "    }\n",
              "\n",
              "    .dataframe thead th {\n",
              "        text-align: right;\n",
              "    }\n",
              "</style>\n",
              "<table border=\"1\" class=\"dataframe\">\n",
              "  <thead>\n",
              "    <tr style=\"text-align: right;\">\n",
              "      <th></th>\n",
              "      <th>Input</th>\n",
              "      <th>Clean_Input</th>\n",
              "    </tr>\n",
              "  </thead>\n",
              "  <tbody>\n",
              "    <tr>\n",
              "      <th>0</th>\n",
              "      <td>paypal * US - Doordash</td>\n",
              "      <td>paypal us doordash</td>\n",
              "    </tr>\n",
              "    <tr>\n",
              "      <th>1</th>\n",
              "      <td>payal * US NY - Doodash</td>\n",
              "      <td>payal us ny doodash</td>\n",
              "    </tr>\n",
              "    <tr>\n",
              "      <th>2</th>\n",
              "      <td>sq* NJ SEAMLSS 2017777777</td>\n",
              "      <td>sq nj seamlss 2017777777</td>\n",
              "    </tr>\n",
              "    <tr>\n",
              "      <th>3</th>\n",
              "      <td>SEAMLSS MCd</td>\n",
              "      <td>seamlss mcd</td>\n",
              "    </tr>\n",
              "    <tr>\n",
              "      <th>4</th>\n",
              "      <td>McDOnalds UBEREATS</td>\n",
              "      <td>mcdonalds ubereats</td>\n",
              "    </tr>\n",
              "    <tr>\n",
              "      <th>5</th>\n",
              "      <td>Giftcard CA US</td>\n",
              "      <td>giftcard ca us</td>\n",
              "    </tr>\n",
              "    <tr>\n",
              "      <th>6</th>\n",
              "      <td>Hotels.com Expedia Sheraton</td>\n",
              "      <td>hotels.com expedia sheraton</td>\n",
              "    </tr>\n",
              "    <tr>\n",
              "      <th>7</th>\n",
              "      <td>Chipotl Postmates</td>\n",
              "      <td>chipotl postmates</td>\n",
              "    </tr>\n",
              "    <tr>\n",
              "      <th>8</th>\n",
              "      <td>paypal * US - Grubhub</td>\n",
              "      <td>paypal us grubhub</td>\n",
              "    </tr>\n",
              "    <tr>\n",
              "      <th>9</th>\n",
              "      <td>payal * US NY - ubereats</td>\n",
              "      <td>payal us ny ubereats</td>\n",
              "    </tr>\n",
              "    <tr>\n",
              "      <th>10</th>\n",
              "      <td>sq* NJ doordash 5745745745</td>\n",
              "      <td>sq nj doordash 5745745745</td>\n",
              "    </tr>\n",
              "    <tr>\n",
              "      <th>11</th>\n",
              "      <td>SEAMLSS Subway</td>\n",
              "      <td>seamlss subway</td>\n",
              "    </tr>\n",
              "    <tr>\n",
              "      <th>12</th>\n",
              "      <td>wendy's UBEREATS</td>\n",
              "      <td>wendys ubereats</td>\n",
              "    </tr>\n",
              "    <tr>\n",
              "      <th>13</th>\n",
              "      <td>Giftcard TX US</td>\n",
              "      <td>giftcard tx us</td>\n",
              "    </tr>\n",
              "    <tr>\n",
              "      <th>14</th>\n",
              "      <td>booking.com priceline marriott</td>\n",
              "      <td>booking.com priceline marriott</td>\n",
              "    </tr>\n",
              "    <tr>\n",
              "      <th>15</th>\n",
              "      <td>chickfila Postmates</td>\n",
              "      <td>chickfila postmates</td>\n",
              "    </tr>\n",
              "  </tbody>\n",
              "</table>\n",
              "</div>"
            ],
            "text/plain": [
              "                             Input                     Clean_Input\n",
              "0           paypal * US - Doordash              paypal us doordash\n",
              "1          payal * US NY - Doodash             payal us ny doodash\n",
              "2        sq* NJ SEAMLSS 2017777777        sq nj seamlss 2017777777\n",
              "3                      SEAMLSS MCd                     seamlss mcd\n",
              "4               McDOnalds UBEREATS              mcdonalds ubereats\n",
              "5                   Giftcard CA US                  giftcard ca us\n",
              "6      Hotels.com Expedia Sheraton     hotels.com expedia sheraton\n",
              "7                Chipotl Postmates               chipotl postmates\n",
              "8            paypal * US - Grubhub               paypal us grubhub\n",
              "9         payal * US NY - ubereats            payal us ny ubereats\n",
              "10      sq* NJ doordash 5745745745       sq nj doordash 5745745745\n",
              "11                  SEAMLSS Subway                  seamlss subway\n",
              "12                wendy's UBEREATS                 wendys ubereats\n",
              "13                  Giftcard TX US                  giftcard tx us\n",
              "14  booking.com priceline marriott  booking.com priceline marriott\n",
              "15             chickfila Postmates             chickfila postmates"
            ]
          },
          "metadata": {
            "tags": []
          },
          "execution_count": 208
        }
      ]
    },
    {
      "cell_type": "code",
      "metadata": {
        "id": "xv0OQdm6gWrK",
        "colab_type": "code",
        "colab": {}
      },
      "source": [
        "\n",
        "# Import Natural Language Toolkit\n",
        "import nltk\n",
        "def tokenize(text):\n",
        "# Instead of using just split() method, used word_tokenize in nltk library.\n",
        "  # text = 'Hi How are you'\n",
        "  news_words = nltk.word_tokenize(text)\n",
        "  return news_words"
      ],
      "execution_count": 0,
      "outputs": []
    },
    {
      "cell_type": "code",
      "metadata": {
        "id": "BwLQNfLth_D0",
        "colab_type": "code",
        "colab": {}
      },
      "source": [
        "df['Tokenize_Input'] = df['Clean_Input'].apply(tokenize)"
      ],
      "execution_count": 0,
      "outputs": []
    },
    {
      "cell_type": "code",
      "metadata": {
        "id": "FgnlDogfjrjx",
        "colab_type": "code",
        "colab": {
          "base_uri": "https://localhost:8080/",
          "height": 545
        },
        "outputId": "7e1b2140-ffb2-4bb4-84d8-52163e31607d"
      },
      "source": [
        "df"
      ],
      "execution_count": 211,
      "outputs": [
        {
          "output_type": "execute_result",
          "data": {
            "text/html": [
              "<div>\n",
              "<style scoped>\n",
              "    .dataframe tbody tr th:only-of-type {\n",
              "        vertical-align: middle;\n",
              "    }\n",
              "\n",
              "    .dataframe tbody tr th {\n",
              "        vertical-align: top;\n",
              "    }\n",
              "\n",
              "    .dataframe thead th {\n",
              "        text-align: right;\n",
              "    }\n",
              "</style>\n",
              "<table border=\"1\" class=\"dataframe\">\n",
              "  <thead>\n",
              "    <tr style=\"text-align: right;\">\n",
              "      <th></th>\n",
              "      <th>Input</th>\n",
              "      <th>Clean_Input</th>\n",
              "      <th>Tokenize_Input</th>\n",
              "    </tr>\n",
              "  </thead>\n",
              "  <tbody>\n",
              "    <tr>\n",
              "      <th>0</th>\n",
              "      <td>paypal * US - Doordash</td>\n",
              "      <td>paypal us doordash</td>\n",
              "      <td>[paypal, us, doordash]</td>\n",
              "    </tr>\n",
              "    <tr>\n",
              "      <th>1</th>\n",
              "      <td>payal * US NY - Doodash</td>\n",
              "      <td>payal us ny doodash</td>\n",
              "      <td>[payal, us, ny, doodash]</td>\n",
              "    </tr>\n",
              "    <tr>\n",
              "      <th>2</th>\n",
              "      <td>sq* NJ SEAMLSS 2017777777</td>\n",
              "      <td>sq nj seamlss 2017777777</td>\n",
              "      <td>[sq, nj, seamlss, 2017777777]</td>\n",
              "    </tr>\n",
              "    <tr>\n",
              "      <th>3</th>\n",
              "      <td>SEAMLSS MCd</td>\n",
              "      <td>seamlss mcd</td>\n",
              "      <td>[seamlss, mcd]</td>\n",
              "    </tr>\n",
              "    <tr>\n",
              "      <th>4</th>\n",
              "      <td>McDOnalds UBEREATS</td>\n",
              "      <td>mcdonalds ubereats</td>\n",
              "      <td>[mcdonalds, ubereats]</td>\n",
              "    </tr>\n",
              "    <tr>\n",
              "      <th>5</th>\n",
              "      <td>Giftcard CA US</td>\n",
              "      <td>giftcard ca us</td>\n",
              "      <td>[giftcard, ca, us]</td>\n",
              "    </tr>\n",
              "    <tr>\n",
              "      <th>6</th>\n",
              "      <td>Hotels.com Expedia Sheraton</td>\n",
              "      <td>hotels.com expedia sheraton</td>\n",
              "      <td>[hotels.com, expedia, sheraton]</td>\n",
              "    </tr>\n",
              "    <tr>\n",
              "      <th>7</th>\n",
              "      <td>Chipotl Postmates</td>\n",
              "      <td>chipotl postmates</td>\n",
              "      <td>[chipotl, postmates]</td>\n",
              "    </tr>\n",
              "    <tr>\n",
              "      <th>8</th>\n",
              "      <td>paypal * US - Grubhub</td>\n",
              "      <td>paypal us grubhub</td>\n",
              "      <td>[paypal, us, grubhub]</td>\n",
              "    </tr>\n",
              "    <tr>\n",
              "      <th>9</th>\n",
              "      <td>payal * US NY - ubereats</td>\n",
              "      <td>payal us ny ubereats</td>\n",
              "      <td>[payal, us, ny, ubereats]</td>\n",
              "    </tr>\n",
              "    <tr>\n",
              "      <th>10</th>\n",
              "      <td>sq* NJ doordash 5745745745</td>\n",
              "      <td>sq nj doordash 5745745745</td>\n",
              "      <td>[sq, nj, doordash, 5745745745]</td>\n",
              "    </tr>\n",
              "    <tr>\n",
              "      <th>11</th>\n",
              "      <td>SEAMLSS Subway</td>\n",
              "      <td>seamlss subway</td>\n",
              "      <td>[seamlss, subway]</td>\n",
              "    </tr>\n",
              "    <tr>\n",
              "      <th>12</th>\n",
              "      <td>wendy's UBEREATS</td>\n",
              "      <td>wendys ubereats</td>\n",
              "      <td>[wendys, ubereats]</td>\n",
              "    </tr>\n",
              "    <tr>\n",
              "      <th>13</th>\n",
              "      <td>Giftcard TX US</td>\n",
              "      <td>giftcard tx us</td>\n",
              "      <td>[giftcard, tx, us]</td>\n",
              "    </tr>\n",
              "    <tr>\n",
              "      <th>14</th>\n",
              "      <td>booking.com priceline marriott</td>\n",
              "      <td>booking.com priceline marriott</td>\n",
              "      <td>[booking.com, priceline, marriott]</td>\n",
              "    </tr>\n",
              "    <tr>\n",
              "      <th>15</th>\n",
              "      <td>chickfila Postmates</td>\n",
              "      <td>chickfila postmates</td>\n",
              "      <td>[chickfila, postmates]</td>\n",
              "    </tr>\n",
              "  </tbody>\n",
              "</table>\n",
              "</div>"
            ],
            "text/plain": [
              "                             Input  ...                      Tokenize_Input\n",
              "0           paypal * US - Doordash  ...              [paypal, us, doordash]\n",
              "1          payal * US NY - Doodash  ...            [payal, us, ny, doodash]\n",
              "2        sq* NJ SEAMLSS 2017777777  ...       [sq, nj, seamlss, 2017777777]\n",
              "3                      SEAMLSS MCd  ...                      [seamlss, mcd]\n",
              "4               McDOnalds UBEREATS  ...               [mcdonalds, ubereats]\n",
              "5                   Giftcard CA US  ...                  [giftcard, ca, us]\n",
              "6      Hotels.com Expedia Sheraton  ...     [hotels.com, expedia, sheraton]\n",
              "7                Chipotl Postmates  ...                [chipotl, postmates]\n",
              "8            paypal * US - Grubhub  ...               [paypal, us, grubhub]\n",
              "9         payal * US NY - ubereats  ...           [payal, us, ny, ubereats]\n",
              "10      sq* NJ doordash 5745745745  ...      [sq, nj, doordash, 5745745745]\n",
              "11                  SEAMLSS Subway  ...                   [seamlss, subway]\n",
              "12                wendy's UBEREATS  ...                  [wendys, ubereats]\n",
              "13                  Giftcard TX US  ...                  [giftcard, tx, us]\n",
              "14  booking.com priceline marriott  ...  [booking.com, priceline, marriott]\n",
              "15             chickfila Postmates  ...              [chickfila, postmates]\n",
              "\n",
              "[16 rows x 3 columns]"
            ]
          },
          "metadata": {
            "tags": []
          },
          "execution_count": 211
        }
      ]
    },
    {
      "cell_type": "code",
      "metadata": {
        "id": "eel9GWca2pZ2",
        "colab_type": "code",
        "colab": {
          "base_uri": "https://localhost:8080/",
          "height": 51
        },
        "outputId": "5d74fc79-96b5-480b-9fdc-9a653c591111"
      },
      "source": [
        "!pip install us"
      ],
      "execution_count": 212,
      "outputs": [
        {
          "output_type": "stream",
          "text": [
            "Requirement already satisfied: us in /usr/local/lib/python3.6/dist-packages (2.0.2)\n",
            "Requirement already satisfied: jellyfish==0.6.1 in /usr/local/lib/python3.6/dist-packages (from us) (0.6.1)\n"
          ],
          "name": "stdout"
        }
      ]
    },
    {
      "cell_type": "code",
      "metadata": {
        "id": "7eQKLCV46JAW",
        "colab_type": "code",
        "colab": {
          "base_uri": "https://localhost:8080/",
          "height": 34
        },
        "outputId": "f4c46c27-d17f-4913-8fb7-509db5f87f61"
      },
      "source": [
        "import us\n",
        "print(us.states.lookup('sq'))"
      ],
      "execution_count": 213,
      "outputs": [
        {
          "output_type": "stream",
          "text": [
            "None\n"
          ],
          "name": "stdout"
        }
      ]
    },
    {
      "cell_type": "code",
      "metadata": {
        "id": "oOUZvhAzohrH",
        "colab_type": "code",
        "colab": {}
      },
      "source": [
        "import difflib\n",
        "import itertools\n",
        "\n",
        "kw = ['paypal','seamless','doordash','mcdonalds','ubereats','postmates','giftcard','priceline','chipotle','grubhub','sheraton','expedia','subway','wendys','booking.com','hotels.com','marriott','chickfila']\n",
        "s = ['papal', 'us', 'dordash','chipkila']\n",
        "def match_with_keyword(text):\n",
        "  op = difflib.get_close_matches(text,kw,cutoff=0.5)\n",
        "  # print(op)\n",
        "  if op:\n",
        "    # for i in range(0, len(op)):\n",
        "    return op[0]\n",
        "  return text"
      ],
      "execution_count": 0,
      "outputs": []
    },
    {
      "cell_type": "code",
      "metadata": {
        "id": "9s5ionlvyblQ",
        "colab_type": "code",
        "colab": {
          "base_uri": "https://localhost:8080/",
          "height": 34
        },
        "outputId": "6e5e8188-88ff-4d39-bd51-00745b337242"
      },
      "source": [
        "match_with_keyword('us')"
      ],
      "execution_count": 232,
      "outputs": [
        {
          "output_type": "execute_result",
          "data": {
            "text/plain": [
              "'us'"
            ]
          },
          "metadata": {
            "tags": []
          },
          "execution_count": 232
        }
      ]
    },
    {
      "cell_type": "code",
      "metadata": {
        "id": "jiLaS1o57LQh",
        "colab_type": "code",
        "colab": {
          "base_uri": "https://localhost:8080/",
          "height": 85
        },
        "outputId": "43cf8083-c661-4b91-f0f3-460a32d00f11"
      },
      "source": [
        "def get_word_tokens(text):\n",
        "    output = {\"brands\": [],\"state\": \"\", \"country\": \"\", \"ph no\": \"\"} #{'brands': [{1: 'the', 2:'country', 3:'sq'}], 'state': 'ca', 'country': 'us', 'ph no': '6749458'}\n",
        "    i = 1\n",
        "    d = {}\n",
        "    for token in text:\n",
        "        # print(token)\n",
        "        if token.isdigit():\n",
        "          output[\"ph no\"] = token\n",
        "        elif len(token) > 2:\n",
        "          d[i] = match_with_keyword(token)\n",
        "          i += 1\n",
        "        elif len(token) == 2 and token == 'us':\n",
        "          output[\"country\"] = token\n",
        "        elif len(token) ==2 and us.states.lookup(token):\n",
        "          output[\"state\"] = token\n",
        "        else:\n",
        "          d[i] = match_with_keyword(token)\n",
        "          i+=1\n",
        "    output[\"brands\"].append(d)\n",
        "\n",
        "    # print('Output: ', output)\n",
        "    return output\n",
        "get_word_tokens(['the','us','payal','6749458','sq','ca','mcd'])\n"
      ],
      "execution_count": 235,
      "outputs": [
        {
          "output_type": "execute_result",
          "data": {
            "text/plain": [
              "{'brands': [{1: 'the', 2: 'paypal', 3: 'sq', 4: 'mcdonalds'}],\n",
              " 'country': 'us',\n",
              " 'ph no': '6749458',\n",
              " 'state': 'ca'}"
            ]
          },
          "metadata": {
            "tags": []
          },
          "execution_count": 235
        }
      ]
    },
    {
      "cell_type": "code",
      "metadata": {
        "id": "gBdN21OIh70R",
        "colab_type": "code",
        "colab": {}
      },
      "source": [
        "df['Output'] = df['Tokenize_Input'].apply(get_word_tokens)"
      ],
      "execution_count": 0,
      "outputs": []
    },
    {
      "cell_type": "code",
      "metadata": {
        "id": "8k0H_N-0iT02",
        "colab_type": "code",
        "colab": {
          "base_uri": "https://localhost:8080/",
          "height": 545
        },
        "outputId": "e5539cdb-3895-4b1f-e912-8cd70d04831c"
      },
      "source": [
        "df"
      ],
      "execution_count": 238,
      "outputs": [
        {
          "output_type": "execute_result",
          "data": {
            "text/html": [
              "<div>\n",
              "<style scoped>\n",
              "    .dataframe tbody tr th:only-of-type {\n",
              "        vertical-align: middle;\n",
              "    }\n",
              "\n",
              "    .dataframe tbody tr th {\n",
              "        vertical-align: top;\n",
              "    }\n",
              "\n",
              "    .dataframe thead th {\n",
              "        text-align: right;\n",
              "    }\n",
              "</style>\n",
              "<table border=\"1\" class=\"dataframe\">\n",
              "  <thead>\n",
              "    <tr style=\"text-align: right;\">\n",
              "      <th></th>\n",
              "      <th>Input</th>\n",
              "      <th>Clean_Input</th>\n",
              "      <th>Tokenize_Input</th>\n",
              "      <th>Output</th>\n",
              "    </tr>\n",
              "  </thead>\n",
              "  <tbody>\n",
              "    <tr>\n",
              "      <th>0</th>\n",
              "      <td>paypal * US - Doordash</td>\n",
              "      <td>paypal us doordash</td>\n",
              "      <td>[paypal, us, doordash]</td>\n",
              "      <td>{'brands': [{1: 'paypal', 2: 'doordash'}], 'st...</td>\n",
              "    </tr>\n",
              "    <tr>\n",
              "      <th>1</th>\n",
              "      <td>payal * US NY - Doodash</td>\n",
              "      <td>payal us ny doodash</td>\n",
              "      <td>[payal, us, ny, doodash]</td>\n",
              "      <td>{'brands': [{1: 'paypal', 2: 'doordash'}], 'st...</td>\n",
              "    </tr>\n",
              "    <tr>\n",
              "      <th>2</th>\n",
              "      <td>sq* NJ SEAMLSS 2017777777</td>\n",
              "      <td>sq nj seamlss 2017777777</td>\n",
              "      <td>[sq, nj, seamlss, 2017777777]</td>\n",
              "      <td>{'brands': [{1: 'sq', 2: 'seamless'}], 'state'...</td>\n",
              "    </tr>\n",
              "    <tr>\n",
              "      <th>3</th>\n",
              "      <td>SEAMLSS MCd</td>\n",
              "      <td>seamlss mcd</td>\n",
              "      <td>[seamlss, mcd]</td>\n",
              "      <td>{'brands': [{1: 'seamless', 2: 'mcdonalds'}], ...</td>\n",
              "    </tr>\n",
              "    <tr>\n",
              "      <th>4</th>\n",
              "      <td>McDOnalds UBEREATS</td>\n",
              "      <td>mcdonalds ubereats</td>\n",
              "      <td>[mcdonalds, ubereats]</td>\n",
              "      <td>{'brands': [{1: 'mcdonalds', 2: 'ubereats'}], ...</td>\n",
              "    </tr>\n",
              "    <tr>\n",
              "      <th>5</th>\n",
              "      <td>Giftcard CA US</td>\n",
              "      <td>giftcard ca us</td>\n",
              "      <td>[giftcard, ca, us]</td>\n",
              "      <td>{'brands': [{1: 'giftcard'}], 'state': 'ca', '...</td>\n",
              "    </tr>\n",
              "    <tr>\n",
              "      <th>6</th>\n",
              "      <td>Hotels.com Expedia Sheraton</td>\n",
              "      <td>hotels.com expedia sheraton</td>\n",
              "      <td>[hotels.com, expedia, sheraton]</td>\n",
              "      <td>{'brands': [{1: 'hotels.com', 2: 'expedia', 3:...</td>\n",
              "    </tr>\n",
              "    <tr>\n",
              "      <th>7</th>\n",
              "      <td>Chipotl Postmates</td>\n",
              "      <td>chipotl postmates</td>\n",
              "      <td>[chipotl, postmates]</td>\n",
              "      <td>{'brands': [{1: 'chipotle', 2: 'postmates'}], ...</td>\n",
              "    </tr>\n",
              "    <tr>\n",
              "      <th>8</th>\n",
              "      <td>paypal * US - Grubhub</td>\n",
              "      <td>paypal us grubhub</td>\n",
              "      <td>[paypal, us, grubhub]</td>\n",
              "      <td>{'brands': [{1: 'paypal', 2: 'grubhub'}], 'sta...</td>\n",
              "    </tr>\n",
              "    <tr>\n",
              "      <th>9</th>\n",
              "      <td>payal * US NY - ubereats</td>\n",
              "      <td>payal us ny ubereats</td>\n",
              "      <td>[payal, us, ny, ubereats]</td>\n",
              "      <td>{'brands': [{1: 'paypal', 2: 'ubereats'}], 'st...</td>\n",
              "    </tr>\n",
              "    <tr>\n",
              "      <th>10</th>\n",
              "      <td>sq* NJ doordash 5745745745</td>\n",
              "      <td>sq nj doordash 5745745745</td>\n",
              "      <td>[sq, nj, doordash, 5745745745]</td>\n",
              "      <td>{'brands': [{1: 'sq', 2: 'doordash'}], 'state'...</td>\n",
              "    </tr>\n",
              "    <tr>\n",
              "      <th>11</th>\n",
              "      <td>SEAMLSS Subway</td>\n",
              "      <td>seamlss subway</td>\n",
              "      <td>[seamlss, subway]</td>\n",
              "      <td>{'brands': [{1: 'seamless', 2: 'subway'}], 'st...</td>\n",
              "    </tr>\n",
              "    <tr>\n",
              "      <th>12</th>\n",
              "      <td>wendy's UBEREATS</td>\n",
              "      <td>wendys ubereats</td>\n",
              "      <td>[wendys, ubereats]</td>\n",
              "      <td>{'brands': [{1: 'wendys', 2: 'ubereats'}], 'st...</td>\n",
              "    </tr>\n",
              "    <tr>\n",
              "      <th>13</th>\n",
              "      <td>Giftcard TX US</td>\n",
              "      <td>giftcard tx us</td>\n",
              "      <td>[giftcard, tx, us]</td>\n",
              "      <td>{'brands': [{1: 'giftcard'}], 'state': 'tx', '...</td>\n",
              "    </tr>\n",
              "    <tr>\n",
              "      <th>14</th>\n",
              "      <td>booking.com priceline marriott</td>\n",
              "      <td>booking.com priceline marriott</td>\n",
              "      <td>[booking.com, priceline, marriott]</td>\n",
              "      <td>{'brands': [{1: 'booking.com', 2: 'priceline',...</td>\n",
              "    </tr>\n",
              "    <tr>\n",
              "      <th>15</th>\n",
              "      <td>chickfila Postmates</td>\n",
              "      <td>chickfila postmates</td>\n",
              "      <td>[chickfila, postmates]</td>\n",
              "      <td>{'brands': [{1: 'chickfila', 2: 'postmates'}],...</td>\n",
              "    </tr>\n",
              "  </tbody>\n",
              "</table>\n",
              "</div>"
            ],
            "text/plain": [
              "                             Input  ...                                             Output\n",
              "0           paypal * US - Doordash  ...  {'brands': [{1: 'paypal', 2: 'doordash'}], 'st...\n",
              "1          payal * US NY - Doodash  ...  {'brands': [{1: 'paypal', 2: 'doordash'}], 'st...\n",
              "2        sq* NJ SEAMLSS 2017777777  ...  {'brands': [{1: 'sq', 2: 'seamless'}], 'state'...\n",
              "3                      SEAMLSS MCd  ...  {'brands': [{1: 'seamless', 2: 'mcdonalds'}], ...\n",
              "4               McDOnalds UBEREATS  ...  {'brands': [{1: 'mcdonalds', 2: 'ubereats'}], ...\n",
              "5                   Giftcard CA US  ...  {'brands': [{1: 'giftcard'}], 'state': 'ca', '...\n",
              "6      Hotels.com Expedia Sheraton  ...  {'brands': [{1: 'hotels.com', 2: 'expedia', 3:...\n",
              "7                Chipotl Postmates  ...  {'brands': [{1: 'chipotle', 2: 'postmates'}], ...\n",
              "8            paypal * US - Grubhub  ...  {'brands': [{1: 'paypal', 2: 'grubhub'}], 'sta...\n",
              "9         payal * US NY - ubereats  ...  {'brands': [{1: 'paypal', 2: 'ubereats'}], 'st...\n",
              "10      sq* NJ doordash 5745745745  ...  {'brands': [{1: 'sq', 2: 'doordash'}], 'state'...\n",
              "11                  SEAMLSS Subway  ...  {'brands': [{1: 'seamless', 2: 'subway'}], 'st...\n",
              "12                wendy's UBEREATS  ...  {'brands': [{1: 'wendys', 2: 'ubereats'}], 'st...\n",
              "13                  Giftcard TX US  ...  {'brands': [{1: 'giftcard'}], 'state': 'tx', '...\n",
              "14  booking.com priceline marriott  ...  {'brands': [{1: 'booking.com', 2: 'priceline',...\n",
              "15             chickfila Postmates  ...  {'brands': [{1: 'chickfila', 2: 'postmates'}],...\n",
              "\n",
              "[16 rows x 4 columns]"
            ]
          },
          "metadata": {
            "tags": []
          },
          "execution_count": 238
        }
      ]
    },
    {
      "cell_type": "code",
      "metadata": {
        "id": "a7-eM1kZixvi",
        "colab_type": "code",
        "colab": {
          "base_uri": "https://localhost:8080/",
          "height": 306
        },
        "outputId": "0a7888f9-6006-4cd8-80ca-a527464e5ddb"
      },
      "source": [
        "df['Output']"
      ],
      "execution_count": 239,
      "outputs": [
        {
          "output_type": "execute_result",
          "data": {
            "text/plain": [
              "0     {'brands': [{1: 'paypal', 2: 'doordash'}], 'st...\n",
              "1     {'brands': [{1: 'paypal', 2: 'doordash'}], 'st...\n",
              "2     {'brands': [{1: 'sq', 2: 'seamless'}], 'state'...\n",
              "3     {'brands': [{1: 'seamless', 2: 'mcdonalds'}], ...\n",
              "4     {'brands': [{1: 'mcdonalds', 2: 'ubereats'}], ...\n",
              "5     {'brands': [{1: 'giftcard'}], 'state': 'ca', '...\n",
              "6     {'brands': [{1: 'hotels.com', 2: 'expedia', 3:...\n",
              "7     {'brands': [{1: 'chipotle', 2: 'postmates'}], ...\n",
              "8     {'brands': [{1: 'paypal', 2: 'grubhub'}], 'sta...\n",
              "9     {'brands': [{1: 'paypal', 2: 'ubereats'}], 'st...\n",
              "10    {'brands': [{1: 'sq', 2: 'doordash'}], 'state'...\n",
              "11    {'brands': [{1: 'seamless', 2: 'subway'}], 'st...\n",
              "12    {'brands': [{1: 'wendys', 2: 'ubereats'}], 'st...\n",
              "13    {'brands': [{1: 'giftcard'}], 'state': 'tx', '...\n",
              "14    {'brands': [{1: 'booking.com', 2: 'priceline',...\n",
              "15    {'brands': [{1: 'chickfila', 2: 'postmates'}],...\n",
              "Name: Output, dtype: object"
            ]
          },
          "metadata": {
            "tags": []
          },
          "execution_count": 239
        }
      ]
    }
  ]
}