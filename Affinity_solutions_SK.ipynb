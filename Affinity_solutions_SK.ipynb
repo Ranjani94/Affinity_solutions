{
  "nbformat": 4,
  "nbformat_minor": 0,
  "metadata": {
    "colab": {
      "name": "Affinity_solutions_SK.ipynb",
      "provenance": [],
      "collapsed_sections": [],
      "include_colab_link": true
    },
    "kernelspec": {
      "name": "python3",
      "display_name": "Python 3"
    }
  },
  "cells": [
    {
      "cell_type": "markdown",
      "metadata": {
        "id": "view-in-github",
        "colab_type": "text"
      },
      "source": [
        "<a href=\"https://colab.research.google.com/github/Ranjani94/Affinity_solutions/blob/master/Affinity_solutions_SK.ipynb\" target=\"_parent\"><img src=\"https://colab.research.google.com/assets/colab-badge.svg\" alt=\"Open In Colab\"/></a>"
      ]
    },
    {
      "cell_type": "markdown",
      "metadata": {
        "id": "IK7HnHXX3xWu",
        "colab_type": "text"
      },
      "source": [
        "##Mounting drive - to access files that are uploaded into My drive"
      ]
    },
    {
      "cell_type": "code",
      "metadata": {
        "id": "3nrBFEWCgvwz",
        "colab_type": "code",
        "outputId": "885754eb-04cd-4137-f400-8d795e7c05d7",
        "colab": {
          "base_uri": "https://localhost:8080/",
          "height": 34
        }
      },
      "source": [
        "from google.colab import drive\n",
        "drive.mount('/content/gdrive', force_remount=True)\n",
        "root_dir = \"/content/gdrive/My Drive/\"\n",
        "base_dir = root_dir + 'Affinity_solution/'"
      ],
      "execution_count": 0,
      "outputs": [
        {
          "output_type": "stream",
          "text": [
            "Mounted at /content/gdrive\n"
          ],
          "name": "stdout"
        }
      ]
    },
    {
      "cell_type": "markdown",
      "metadata": {
        "id": "OhGMeHx-43Qh",
        "colab_type": "text"
      },
      "source": [
        "###Pandas stands for Python Data Analysis Library and it is an open source library used to manipulate and analyze data"
      ]
    },
    {
      "cell_type": "code",
      "metadata": {
        "id": "DPu4nv2Uijml",
        "colab_type": "code",
        "colab": {}
      },
      "source": [
        "import pandas as pd"
      ],
      "execution_count": 0,
      "outputs": []
    },
    {
      "cell_type": "markdown",
      "metadata": {
        "id": "Pyjj1mCh7J3e",
        "colab_type": "text"
      },
      "source": [
        "###Reading xlsx file and converting it to CSV file format."
      ]
    },
    {
      "cell_type": "code",
      "metadata": {
        "id": "rrBxMsmrjmm7",
        "colab_type": "code",
        "colab": {}
      },
      "source": [
        "file_path = base_dir + 'Exercise.xlsx'\n",
        "dfs = pd.read_excel(file_path, sheet_name='Sheet1')\n",
        "dfs.to_csv('Exercise.csv', index=False)"
      ],
      "execution_count": 0,
      "outputs": []
    },
    {
      "cell_type": "markdown",
      "metadata": {
        "id": "dp17nIcV7oe9",
        "colab_type": "text"
      },
      "source": [
        "###Reading CSV file using pandas library."
      ]
    },
    {
      "cell_type": "code",
      "metadata": {
        "id": "QMmCsjV2kOEV",
        "colab_type": "code",
        "colab": {}
      },
      "source": [
        "df = pd.read_csv('Exercise.csv')"
      ],
      "execution_count": 0,
      "outputs": []
    },
    {
      "cell_type": "markdown",
      "metadata": {
        "id": "sUpvqw33Cka3",
        "colab_type": "text"
      },
      "source": [
        "###Analzing data"
      ]
    },
    {
      "cell_type": "code",
      "metadata": {
        "id": "zQX0tTF3kjbN",
        "colab_type": "code",
        "outputId": "70577b0a-b86a-4b8e-ef94-0c1e1dc31417",
        "colab": {
          "base_uri": "https://localhost:8080/",
          "height": 545
        }
      },
      "source": [
        "df"
      ],
      "execution_count": 0,
      "outputs": [
        {
          "output_type": "execute_result",
          "data": {
            "text/html": [
              "<div>\n",
              "<style scoped>\n",
              "    .dataframe tbody tr th:only-of-type {\n",
              "        vertical-align: middle;\n",
              "    }\n",
              "\n",
              "    .dataframe tbody tr th {\n",
              "        vertical-align: top;\n",
              "    }\n",
              "\n",
              "    .dataframe thead th {\n",
              "        text-align: right;\n",
              "    }\n",
              "</style>\n",
              "<table border=\"1\" class=\"dataframe\">\n",
              "  <thead>\n",
              "    <tr style=\"text-align: right;\">\n",
              "      <th></th>\n",
              "      <th>Input</th>\n",
              "    </tr>\n",
              "  </thead>\n",
              "  <tbody>\n",
              "    <tr>\n",
              "      <th>0</th>\n",
              "      <td>paypal * US - Doordash</td>\n",
              "    </tr>\n",
              "    <tr>\n",
              "      <th>1</th>\n",
              "      <td>payal * US NY - Doodash</td>\n",
              "    </tr>\n",
              "    <tr>\n",
              "      <th>2</th>\n",
              "      <td>sq* NJ SEAMLSS 2017777777</td>\n",
              "    </tr>\n",
              "    <tr>\n",
              "      <th>3</th>\n",
              "      <td>SEAMLSS MCd</td>\n",
              "    </tr>\n",
              "    <tr>\n",
              "      <th>4</th>\n",
              "      <td>McDOnalds UBEREATS</td>\n",
              "    </tr>\n",
              "    <tr>\n",
              "      <th>5</th>\n",
              "      <td>Giftcard CA US</td>\n",
              "    </tr>\n",
              "    <tr>\n",
              "      <th>6</th>\n",
              "      <td>Hotels.com Expedia Sheraton</td>\n",
              "    </tr>\n",
              "    <tr>\n",
              "      <th>7</th>\n",
              "      <td>Chipotl Postmates</td>\n",
              "    </tr>\n",
              "    <tr>\n",
              "      <th>8</th>\n",
              "      <td>paypal * US - Grubhub</td>\n",
              "    </tr>\n",
              "    <tr>\n",
              "      <th>9</th>\n",
              "      <td>payal * US NY - ubereats</td>\n",
              "    </tr>\n",
              "    <tr>\n",
              "      <th>10</th>\n",
              "      <td>sq* NJ doordash 5745745745</td>\n",
              "    </tr>\n",
              "    <tr>\n",
              "      <th>11</th>\n",
              "      <td>SEAMLSS Subway</td>\n",
              "    </tr>\n",
              "    <tr>\n",
              "      <th>12</th>\n",
              "      <td>wendy's UBEREATS</td>\n",
              "    </tr>\n",
              "    <tr>\n",
              "      <th>13</th>\n",
              "      <td>Giftcard TX US</td>\n",
              "    </tr>\n",
              "    <tr>\n",
              "      <th>14</th>\n",
              "      <td>booking.com priceline marriott</td>\n",
              "    </tr>\n",
              "    <tr>\n",
              "      <th>15</th>\n",
              "      <td>chickfila Postmates</td>\n",
              "    </tr>\n",
              "  </tbody>\n",
              "</table>\n",
              "</div>"
            ],
            "text/plain": [
              "                             Input\n",
              "0           paypal * US - Doordash\n",
              "1          payal * US NY - Doodash\n",
              "2        sq* NJ SEAMLSS 2017777777\n",
              "3                      SEAMLSS MCd\n",
              "4               McDOnalds UBEREATS\n",
              "5                   Giftcard CA US\n",
              "6      Hotels.com Expedia Sheraton\n",
              "7                Chipotl Postmates\n",
              "8            paypal * US - Grubhub\n",
              "9         payal * US NY - ubereats\n",
              "10      sq* NJ doordash 5745745745\n",
              "11                  SEAMLSS Subway\n",
              "12                wendy's UBEREATS\n",
              "13                  Giftcard TX US\n",
              "14  booking.com priceline marriott\n",
              "15             chickfila Postmates"
            ]
          },
          "metadata": {
            "tags": []
          },
          "execution_count": 18
        }
      ]
    },
    {
      "cell_type": "code",
      "metadata": {
        "id": "-Cl91mKJCcoZ",
        "colab_type": "code",
        "outputId": "fbca9234-4f90-41f8-ed63-ebb829fbe118",
        "colab": {
          "base_uri": "https://localhost:8080/",
          "height": 153
        }
      },
      "source": [
        "df['Input'].unique()"
      ],
      "execution_count": 0,
      "outputs": [
        {
          "output_type": "execute_result",
          "data": {
            "text/plain": [
              "array(['paypal * US - Doordash', 'payal * US NY - Doodash',\n",
              "       'sq* NJ SEAMLSS 2017777777', 'SEAMLSS MCd', 'McDOnalds UBEREATS',\n",
              "       'Giftcard CA US', 'Hotels.com Expedia Sheraton',\n",
              "       'Chipotl Postmates', 'paypal * US - Grubhub',\n",
              "       'payal * US NY - ubereats', 'sq* NJ doordash 5745745745',\n",
              "       'SEAMLSS Subway', \"wendy's UBEREATS\", 'Giftcard TX US',\n",
              "       'booking.com priceline marriott', 'chickfila Postmates'],\n",
              "      dtype=object)"
            ]
          },
          "metadata": {
            "tags": []
          },
          "execution_count": 19
        }
      ]
    },
    {
      "cell_type": "code",
      "metadata": {
        "id": "8ue-uVZBCrUE",
        "colab_type": "code",
        "outputId": "81d73fd1-2807-4887-c060-0c9c68ce0b07",
        "colab": {
          "base_uri": "https://localhost:8080/",
          "height": 51
        }
      },
      "source": [
        "df.dtypes"
      ],
      "execution_count": 0,
      "outputs": [
        {
          "output_type": "execute_result",
          "data": {
            "text/plain": [
              "Input    object\n",
              "dtype: object"
            ]
          },
          "metadata": {
            "tags": []
          },
          "execution_count": 20
        }
      ]
    },
    {
      "cell_type": "code",
      "metadata": {
        "id": "gskjpB9xCvlk",
        "colab_type": "code",
        "outputId": "009d7d28-a1cf-46c0-d50b-59f94b8b8558",
        "colab": {
          "base_uri": "https://localhost:8080/",
          "height": 595
        }
      },
      "source": [
        "df.Input.str.split(expand=True).stack().value_counts()"
      ],
      "execution_count": 0,
      "outputs": [
        {
          "output_type": "execute_result",
          "data": {
            "text/plain": [
              "US             6\n",
              "-              4\n",
              "*              4\n",
              "SEAMLSS        3\n",
              "paypal         2\n",
              "Giftcard       2\n",
              "sq*            2\n",
              "NJ             2\n",
              "UBEREATS       2\n",
              "NY             2\n",
              "Postmates      2\n",
              "payal          2\n",
              "McDOnalds      1\n",
              "wendy's        1\n",
              "doordash       1\n",
              "priceline      1\n",
              "ubereats       1\n",
              "2017777777     1\n",
              "marriott       1\n",
              "Grubhub        1\n",
              "Sheraton       1\n",
              "5745745745     1\n",
              "booking.com    1\n",
              "TX             1\n",
              "Expedia        1\n",
              "Doodash        1\n",
              "MCd            1\n",
              "Doordash       1\n",
              "CA             1\n",
              "Hotels.com     1\n",
              "chickfila      1\n",
              "Chipotl        1\n",
              "Subway         1\n",
              "dtype: int64"
            ]
          },
          "metadata": {
            "tags": []
          },
          "execution_count": 21
        }
      ]
    },
    {
      "cell_type": "markdown",
      "metadata": {
        "id": "KNoGGnw09cgN",
        "colab_type": "text"
      },
      "source": [
        "###Preprocessing - NLTK stands for Natural Language Toolkit - It provides easy-to-use interface to work with human language data and text pre-processing like tokenization, stemming, parsing etc"
      ]
    },
    {
      "cell_type": "code",
      "metadata": {
        "id": "Fmn4n90SNqYz",
        "colab_type": "code",
        "outputId": "81741b2e-98dc-408d-c4a8-b81c08ae6916",
        "colab": {
          "base_uri": "https://localhost:8080/",
          "height": 51
        }
      },
      "source": [
        "import re\n",
        "import nltk\n",
        "nltk.download('punkt')\n",
        "def cleaning(raw_text):\n",
        "    # 1. Remove non-letters/Special Characters and Punctuations\n",
        "    # text = re.sub(\"[^a-zA-Z0-9]\", \" \", raw_text)\n",
        "    chars = ['*', '-',\"'\"]\n",
        "    for i in chars:\n",
        "      raw_text = raw_text.replace(i,'')\n",
        "\n",
        "    # 2. Convert to lower case.\n",
        "    raw_text =  raw_text.lower()\n",
        "    \n",
        "    # 3. Tokenize\n",
        "    raw_text = nltk.word_tokenize(raw_text)\n",
        "    return raw_text"
      ],
      "execution_count": 0,
      "outputs": [
        {
          "output_type": "stream",
          "text": [
            "[nltk_data] Downloading package punkt to /root/nltk_data...\n",
            "[nltk_data]   Unzipping tokenizers/punkt.zip.\n"
          ],
          "name": "stdout"
        }
      ]
    },
    {
      "cell_type": "markdown",
      "metadata": {
        "id": "EkqjMfWqADOm",
        "colab_type": "text"
      },
      "source": [
        "###Creating a column by applying the cleaning function on Input column"
      ]
    },
    {
      "cell_type": "code",
      "metadata": {
        "id": "yivZmViiOnuT",
        "colab_type": "code",
        "colab": {}
      },
      "source": [
        "df['Clean_Input'] = df['Input'].apply(cleaning)"
      ],
      "execution_count": 0,
      "outputs": []
    },
    {
      "cell_type": "code",
      "metadata": {
        "id": "iBIH66l8O-xe",
        "colab_type": "code",
        "outputId": "b672cb65-d7fa-437f-86ac-b9a3ad872f28",
        "colab": {
          "base_uri": "https://localhost:8080/",
          "height": 545
        }
      },
      "source": [
        "df"
      ],
      "execution_count": 0,
      "outputs": [
        {
          "output_type": "execute_result",
          "data": {
            "text/html": [
              "<div>\n",
              "<style scoped>\n",
              "    .dataframe tbody tr th:only-of-type {\n",
              "        vertical-align: middle;\n",
              "    }\n",
              "\n",
              "    .dataframe tbody tr th {\n",
              "        vertical-align: top;\n",
              "    }\n",
              "\n",
              "    .dataframe thead th {\n",
              "        text-align: right;\n",
              "    }\n",
              "</style>\n",
              "<table border=\"1\" class=\"dataframe\">\n",
              "  <thead>\n",
              "    <tr style=\"text-align: right;\">\n",
              "      <th></th>\n",
              "      <th>Input</th>\n",
              "      <th>Clean_Input</th>\n",
              "    </tr>\n",
              "  </thead>\n",
              "  <tbody>\n",
              "    <tr>\n",
              "      <th>0</th>\n",
              "      <td>paypal * US - Doordash</td>\n",
              "      <td>[paypal, us, doordash]</td>\n",
              "    </tr>\n",
              "    <tr>\n",
              "      <th>1</th>\n",
              "      <td>payal * US NY - Doodash</td>\n",
              "      <td>[payal, us, ny, doodash]</td>\n",
              "    </tr>\n",
              "    <tr>\n",
              "      <th>2</th>\n",
              "      <td>sq* NJ SEAMLSS 2017777777</td>\n",
              "      <td>[sq, nj, seamlss, 2017777777]</td>\n",
              "    </tr>\n",
              "    <tr>\n",
              "      <th>3</th>\n",
              "      <td>SEAMLSS MCd</td>\n",
              "      <td>[seamlss, mcd]</td>\n",
              "    </tr>\n",
              "    <tr>\n",
              "      <th>4</th>\n",
              "      <td>McDOnalds UBEREATS</td>\n",
              "      <td>[mcdonalds, ubereats]</td>\n",
              "    </tr>\n",
              "    <tr>\n",
              "      <th>5</th>\n",
              "      <td>Giftcard CA US</td>\n",
              "      <td>[giftcard, ca, us]</td>\n",
              "    </tr>\n",
              "    <tr>\n",
              "      <th>6</th>\n",
              "      <td>Hotels.com Expedia Sheraton</td>\n",
              "      <td>[hotels.com, expedia, sheraton]</td>\n",
              "    </tr>\n",
              "    <tr>\n",
              "      <th>7</th>\n",
              "      <td>Chipotl Postmates</td>\n",
              "      <td>[chipotl, postmates]</td>\n",
              "    </tr>\n",
              "    <tr>\n",
              "      <th>8</th>\n",
              "      <td>paypal * US - Grubhub</td>\n",
              "      <td>[paypal, us, grubhub]</td>\n",
              "    </tr>\n",
              "    <tr>\n",
              "      <th>9</th>\n",
              "      <td>payal * US NY - ubereats</td>\n",
              "      <td>[payal, us, ny, ubereats]</td>\n",
              "    </tr>\n",
              "    <tr>\n",
              "      <th>10</th>\n",
              "      <td>sq* NJ doordash 5745745745</td>\n",
              "      <td>[sq, nj, doordash, 5745745745]</td>\n",
              "    </tr>\n",
              "    <tr>\n",
              "      <th>11</th>\n",
              "      <td>SEAMLSS Subway</td>\n",
              "      <td>[seamlss, subway]</td>\n",
              "    </tr>\n",
              "    <tr>\n",
              "      <th>12</th>\n",
              "      <td>wendy's UBEREATS</td>\n",
              "      <td>[wendys, ubereats]</td>\n",
              "    </tr>\n",
              "    <tr>\n",
              "      <th>13</th>\n",
              "      <td>Giftcard TX US</td>\n",
              "      <td>[giftcard, tx, us]</td>\n",
              "    </tr>\n",
              "    <tr>\n",
              "      <th>14</th>\n",
              "      <td>booking.com priceline marriott</td>\n",
              "      <td>[booking.com, priceline, marriott]</td>\n",
              "    </tr>\n",
              "    <tr>\n",
              "      <th>15</th>\n",
              "      <td>chickfila Postmates</td>\n",
              "      <td>[chickfila, postmates]</td>\n",
              "    </tr>\n",
              "  </tbody>\n",
              "</table>\n",
              "</div>"
            ],
            "text/plain": [
              "                             Input                         Clean_Input\n",
              "0           paypal * US - Doordash              [paypal, us, doordash]\n",
              "1          payal * US NY - Doodash            [payal, us, ny, doodash]\n",
              "2        sq* NJ SEAMLSS 2017777777       [sq, nj, seamlss, 2017777777]\n",
              "3                      SEAMLSS MCd                      [seamlss, mcd]\n",
              "4               McDOnalds UBEREATS               [mcdonalds, ubereats]\n",
              "5                   Giftcard CA US                  [giftcard, ca, us]\n",
              "6      Hotels.com Expedia Sheraton     [hotels.com, expedia, sheraton]\n",
              "7                Chipotl Postmates                [chipotl, postmates]\n",
              "8            paypal * US - Grubhub               [paypal, us, grubhub]\n",
              "9         payal * US NY - ubereats           [payal, us, ny, ubereats]\n",
              "10      sq* NJ doordash 5745745745      [sq, nj, doordash, 5745745745]\n",
              "11                  SEAMLSS Subway                   [seamlss, subway]\n",
              "12                wendy's UBEREATS                  [wendys, ubereats]\n",
              "13                  Giftcard TX US                  [giftcard, tx, us]\n",
              "14  booking.com priceline marriott  [booking.com, priceline, marriott]\n",
              "15             chickfila Postmates              [chickfila, postmates]"
            ]
          },
          "metadata": {
            "tags": []
          },
          "execution_count": 24
        }
      ]
    },
    {
      "cell_type": "markdown",
      "metadata": {
        "id": "SLJ3ijMrBMTt",
        "colab_type": "text"
      },
      "source": [
        "###us is a package to easily access states in US and I used lookup method to allow matching of states by abbreviation."
      ]
    },
    {
      "cell_type": "code",
      "metadata": {
        "id": "eel9GWca2pZ2",
        "colab_type": "code",
        "outputId": "dd74a19a-fe81-43a2-c8c2-b3be762028d6",
        "colab": {
          "base_uri": "https://localhost:8080/",
          "height": 292
        }
      },
      "source": [
        "!pip install us"
      ],
      "execution_count": 0,
      "outputs": [
        {
          "output_type": "stream",
          "text": [
            "Collecting us\n",
            "  Downloading https://files.pythonhosted.org/packages/88/04/04323aefa1871de30286d3decae7706481c73bd428cf0c08e158bfa259a6/us-2.0.2.tar.gz\n",
            "Collecting jellyfish==0.6.1\n",
            "\u001b[?25l  Downloading https://files.pythonhosted.org/packages/61/3f/60ac86fb43dfbf976768e80674b5538e535f6eca5aa7806cf2fdfd63550f/jellyfish-0.6.1.tar.gz (132kB)\n",
            "\u001b[K     |████████████████████████████████| 133kB 5.9MB/s \n",
            "\u001b[?25hBuilding wheels for collected packages: us, jellyfish\n",
            "  Building wheel for us (setup.py) ... \u001b[?25l\u001b[?25hdone\n",
            "  Created wheel for us: filename=us-2.0.2-cp36-none-any.whl size=11927 sha256=709f7b49cde446d6df1585afb09db16fb02973605c0951786309e0e5ddab0b70\n",
            "  Stored in directory: /root/.cache/pip/wheels/e2/16/45/6453383ffa495670f0f6b80a3e697a9771d98cfbaf8b451e73\n",
            "  Building wheel for jellyfish (setup.py) ... \u001b[?25l\u001b[?25hdone\n",
            "  Created wheel for jellyfish: filename=jellyfish-0.6.1-cp36-cp36m-linux_x86_64.whl size=74750 sha256=ade0cd49dba3b1f36ef58e857ee1d6cb179cc4f9625d1ee3dc6fb0e6bfe66da5\n",
            "  Stored in directory: /root/.cache/pip/wheels/9c/6f/33/92bb9a4b4562a60ba6a80cedbab8907e48bc7a8b1f369ea0ae\n",
            "Successfully built us jellyfish\n",
            "Installing collected packages: jellyfish, us\n",
            "Successfully installed jellyfish-0.6.1 us-2.0.2\n"
          ],
          "name": "stdout"
        }
      ]
    },
    {
      "cell_type": "code",
      "metadata": {
        "id": "7eQKLCV46JAW",
        "colab_type": "code",
        "outputId": "7bcba8de-23ba-40fb-99b9-328e589dbcae",
        "colab": {
          "base_uri": "https://localhost:8080/",
          "height": 34
        }
      },
      "source": [
        "import us as us_country\n",
        "print(us_country.states.lookup('ca'))"
      ],
      "execution_count": 0,
      "outputs": [
        {
          "output_type": "stream",
          "text": [
            "California\n"
          ],
          "name": "stdout"
        }
      ]
    },
    {
      "cell_type": "markdown",
      "metadata": {
        "id": "KOaNbHUaDOkA",
        "colab_type": "text"
      },
      "source": [
        "###difflib is a library that provides functions to compare sequence\n",
        "\n",
        "###difflib.get_close_matches() - Returns a list of words that matches good enough given keyword and text"
      ]
    },
    {
      "cell_type": "code",
      "metadata": {
        "id": "oOUZvhAzohrH",
        "colab_type": "code",
        "colab": {}
      },
      "source": [
        "import difflib\n",
        "import itertools\n",
        "\n",
        "brand_names = ['paypal','seamless','doordash','mcdonalds','ubereats','postmates','giftcard','priceline','chipotle','grubhub','sheraton','expedia','subway','wendys','booking.com','hotels.com','marriott','chickfila']\n",
        "def match_with_keyword(text):\n",
        "  op = difflib.get_close_matches(text,brand_names,cutoff=0.5)\n",
        "  if op:\n",
        "    return op[0]\n",
        "  return text"
      ],
      "execution_count": 0,
      "outputs": []
    },
    {
      "cell_type": "code",
      "metadata": {
        "id": "9s5ionlvyblQ",
        "colab_type": "code",
        "outputId": "0f548050-c238-4557-baf2-999cb9b0fec3",
        "colab": {
          "base_uri": "https://localhost:8080/",
          "height": 34
        }
      },
      "source": [
        "match_with_keyword('mcd')"
      ],
      "execution_count": 0,
      "outputs": [
        {
          "output_type": "execute_result",
          "data": {
            "text/plain": [
              "'mcdonalds'"
            ]
          },
          "metadata": {
            "tags": []
          },
          "execution_count": 28
        }
      ]
    },
    {
      "cell_type": "markdown",
      "metadata": {
        "id": "PkNz4yQ7B_xv",
        "colab_type": "text"
      },
      "source": [
        "###Write a function to identify brands, country, states and phone number"
      ]
    },
    {
      "cell_type": "code",
      "metadata": {
        "id": "jiLaS1o57LQh",
        "colab_type": "code",
        "outputId": "d0fee05f-cca7-446f-9f93-583db43ad637",
        "colab": {
          "base_uri": "https://localhost:8080/",
          "height": 153
        }
      },
      "source": [
        "def get_word_tokens(text):\n",
        "    output = {\"brands\": [],\"state\": \"\", \"country\": \"\", \"ph no\": \"\"}\n",
        "    d = []\n",
        "    #Checks if a given token is a digit to identify phone number\n",
        "    #Checks if the length of token is greater than 2 to identify brands\n",
        "    #Checks if the token equals 'us' to identify country\n",
        "    #Checks if the token passed is a state\n",
        "    for token in text:\n",
        "        if token.isdigit() and len(token) == 10 :   \n",
        "          output[\"ph no\"] = token\n",
        "        elif len(token) > 2:  \n",
        "          d.append(match_with_keyword(token))\n",
        "        elif len(token) == 2 and token == 'us' and not output[\"country\"]: \n",
        "          output[\"country\"] = token\n",
        "        elif len(token) == 2 and us_country.states.lookup(token) and not output[\"state\"]:  \n",
        "          output[\"state\"] = token\n",
        "        else:\n",
        "          d.append(match_with_keyword(token))\n",
        "    output[\"brands\"].append({str(idx+1) : x for idx,x in enumerate(d)})\n",
        "\n",
        "    # print('Output: ', output)\n",
        "    return output\n",
        "get_word_tokens(['payal','5745745745','sq','ca','mcd','ca','us','us'])\n"
      ],
      "execution_count": 0,
      "outputs": [
        {
          "output_type": "execute_result",
          "data": {
            "text/plain": [
              "{'brands': [{'1': 'paypal',\n",
              "   '2': 'sq',\n",
              "   '3': 'mcdonalds',\n",
              "   '4': 'ca',\n",
              "   '5': 'us'}],\n",
              " 'country': 'us',\n",
              " 'ph no': '5745745745',\n",
              " 'state': 'ca'}"
            ]
          },
          "metadata": {
            "tags": []
          },
          "execution_count": 29
        }
      ]
    },
    {
      "cell_type": "markdown",
      "metadata": {
        "id": "ctUqICJjCJnL",
        "colab_type": "text"
      },
      "source": [
        "###Creating an output column"
      ]
    },
    {
      "cell_type": "code",
      "metadata": {
        "id": "gBdN21OIh70R",
        "colab_type": "code",
        "colab": {}
      },
      "source": [
        "df['Output'] = df['Clean_Input'].apply(get_word_tokens)"
      ],
      "execution_count": 0,
      "outputs": []
    },
    {
      "cell_type": "code",
      "metadata": {
        "id": "8k0H_N-0iT02",
        "colab_type": "code",
        "outputId": "b4b56edb-44d1-4f84-e9e8-b249001fec1e",
        "colab": {
          "base_uri": "https://localhost:8080/",
          "height": 545
        }
      },
      "source": [
        "df"
      ],
      "execution_count": 0,
      "outputs": [
        {
          "output_type": "execute_result",
          "data": {
            "text/html": [
              "<div>\n",
              "<style scoped>\n",
              "    .dataframe tbody tr th:only-of-type {\n",
              "        vertical-align: middle;\n",
              "    }\n",
              "\n",
              "    .dataframe tbody tr th {\n",
              "        vertical-align: top;\n",
              "    }\n",
              "\n",
              "    .dataframe thead th {\n",
              "        text-align: right;\n",
              "    }\n",
              "</style>\n",
              "<table border=\"1\" class=\"dataframe\">\n",
              "  <thead>\n",
              "    <tr style=\"text-align: right;\">\n",
              "      <th></th>\n",
              "      <th>Input</th>\n",
              "      <th>Clean_Input</th>\n",
              "      <th>Output</th>\n",
              "    </tr>\n",
              "  </thead>\n",
              "  <tbody>\n",
              "    <tr>\n",
              "      <th>0</th>\n",
              "      <td>paypal * US - Doordash</td>\n",
              "      <td>[paypal, us, doordash]</td>\n",
              "      <td>{'brands': [{'1': 'paypal', '2': 'doordash'}],...</td>\n",
              "    </tr>\n",
              "    <tr>\n",
              "      <th>1</th>\n",
              "      <td>payal * US NY - Doodash</td>\n",
              "      <td>[payal, us, ny, doodash]</td>\n",
              "      <td>{'brands': [{'1': 'paypal', '2': 'doordash'}],...</td>\n",
              "    </tr>\n",
              "    <tr>\n",
              "      <th>2</th>\n",
              "      <td>sq* NJ SEAMLSS 2017777777</td>\n",
              "      <td>[sq, nj, seamlss, 2017777777]</td>\n",
              "      <td>{'brands': [{'1': 'sq', '2': 'seamless'}], 'st...</td>\n",
              "    </tr>\n",
              "    <tr>\n",
              "      <th>3</th>\n",
              "      <td>SEAMLSS MCd</td>\n",
              "      <td>[seamlss, mcd]</td>\n",
              "      <td>{'brands': [{'1': 'seamless', '2': 'mcdonalds'...</td>\n",
              "    </tr>\n",
              "    <tr>\n",
              "      <th>4</th>\n",
              "      <td>McDOnalds UBEREATS</td>\n",
              "      <td>[mcdonalds, ubereats]</td>\n",
              "      <td>{'brands': [{'1': 'mcdonalds', '2': 'ubereats'...</td>\n",
              "    </tr>\n",
              "    <tr>\n",
              "      <th>5</th>\n",
              "      <td>Giftcard CA US</td>\n",
              "      <td>[giftcard, ca, us]</td>\n",
              "      <td>{'brands': [{'1': 'giftcard'}], 'state': 'ca',...</td>\n",
              "    </tr>\n",
              "    <tr>\n",
              "      <th>6</th>\n",
              "      <td>Hotels.com Expedia Sheraton</td>\n",
              "      <td>[hotels.com, expedia, sheraton]</td>\n",
              "      <td>{'brands': [{'1': 'hotels.com', '2': 'expedia'...</td>\n",
              "    </tr>\n",
              "    <tr>\n",
              "      <th>7</th>\n",
              "      <td>Chipotl Postmates</td>\n",
              "      <td>[chipotl, postmates]</td>\n",
              "      <td>{'brands': [{'1': 'chipotle', '2': 'postmates'...</td>\n",
              "    </tr>\n",
              "    <tr>\n",
              "      <th>8</th>\n",
              "      <td>paypal * US - Grubhub</td>\n",
              "      <td>[paypal, us, grubhub]</td>\n",
              "      <td>{'brands': [{'1': 'paypal', '2': 'grubhub'}], ...</td>\n",
              "    </tr>\n",
              "    <tr>\n",
              "      <th>9</th>\n",
              "      <td>payal * US NY - ubereats</td>\n",
              "      <td>[payal, us, ny, ubereats]</td>\n",
              "      <td>{'brands': [{'1': 'paypal', '2': 'ubereats'}],...</td>\n",
              "    </tr>\n",
              "    <tr>\n",
              "      <th>10</th>\n",
              "      <td>sq* NJ doordash 5745745745</td>\n",
              "      <td>[sq, nj, doordash, 5745745745]</td>\n",
              "      <td>{'brands': [{'1': 'sq', '2': 'doordash'}], 'st...</td>\n",
              "    </tr>\n",
              "    <tr>\n",
              "      <th>11</th>\n",
              "      <td>SEAMLSS Subway</td>\n",
              "      <td>[seamlss, subway]</td>\n",
              "      <td>{'brands': [{'1': 'seamless', '2': 'subway'}],...</td>\n",
              "    </tr>\n",
              "    <tr>\n",
              "      <th>12</th>\n",
              "      <td>wendy's UBEREATS</td>\n",
              "      <td>[wendys, ubereats]</td>\n",
              "      <td>{'brands': [{'1': 'wendys', '2': 'ubereats'}],...</td>\n",
              "    </tr>\n",
              "    <tr>\n",
              "      <th>13</th>\n",
              "      <td>Giftcard TX US</td>\n",
              "      <td>[giftcard, tx, us]</td>\n",
              "      <td>{'brands': [{'1': 'giftcard'}], 'state': 'tx',...</td>\n",
              "    </tr>\n",
              "    <tr>\n",
              "      <th>14</th>\n",
              "      <td>booking.com priceline marriott</td>\n",
              "      <td>[booking.com, priceline, marriott]</td>\n",
              "      <td>{'brands': [{'1': 'booking.com', '2': 'priceli...</td>\n",
              "    </tr>\n",
              "    <tr>\n",
              "      <th>15</th>\n",
              "      <td>chickfila Postmates</td>\n",
              "      <td>[chickfila, postmates]</td>\n",
              "      <td>{'brands': [{'1': 'chickfila', '2': 'postmates...</td>\n",
              "    </tr>\n",
              "  </tbody>\n",
              "</table>\n",
              "</div>"
            ],
            "text/plain": [
              "                             Input  ...                                             Output\n",
              "0           paypal * US - Doordash  ...  {'brands': [{'1': 'paypal', '2': 'doordash'}],...\n",
              "1          payal * US NY - Doodash  ...  {'brands': [{'1': 'paypal', '2': 'doordash'}],...\n",
              "2        sq* NJ SEAMLSS 2017777777  ...  {'brands': [{'1': 'sq', '2': 'seamless'}], 'st...\n",
              "3                      SEAMLSS MCd  ...  {'brands': [{'1': 'seamless', '2': 'mcdonalds'...\n",
              "4               McDOnalds UBEREATS  ...  {'brands': [{'1': 'mcdonalds', '2': 'ubereats'...\n",
              "5                   Giftcard CA US  ...  {'brands': [{'1': 'giftcard'}], 'state': 'ca',...\n",
              "6      Hotels.com Expedia Sheraton  ...  {'brands': [{'1': 'hotels.com', '2': 'expedia'...\n",
              "7                Chipotl Postmates  ...  {'brands': [{'1': 'chipotle', '2': 'postmates'...\n",
              "8            paypal * US - Grubhub  ...  {'brands': [{'1': 'paypal', '2': 'grubhub'}], ...\n",
              "9         payal * US NY - ubereats  ...  {'brands': [{'1': 'paypal', '2': 'ubereats'}],...\n",
              "10      sq* NJ doordash 5745745745  ...  {'brands': [{'1': 'sq', '2': 'doordash'}], 'st...\n",
              "11                  SEAMLSS Subway  ...  {'brands': [{'1': 'seamless', '2': 'subway'}],...\n",
              "12                wendy's UBEREATS  ...  {'brands': [{'1': 'wendys', '2': 'ubereats'}],...\n",
              "13                  Giftcard TX US  ...  {'brands': [{'1': 'giftcard'}], 'state': 'tx',...\n",
              "14  booking.com priceline marriott  ...  {'brands': [{'1': 'booking.com', '2': 'priceli...\n",
              "15             chickfila Postmates  ...  {'brands': [{'1': 'chickfila', '2': 'postmates...\n",
              "\n",
              "[16 rows x 3 columns]"
            ]
          },
          "metadata": {
            "tags": []
          },
          "execution_count": 31
        }
      ]
    },
    {
      "cell_type": "code",
      "metadata": {
        "id": "a7-eM1kZixvi",
        "colab_type": "code",
        "outputId": "145f5ede-faa1-4285-e1c1-89daad8e830b",
        "colab": {
          "base_uri": "https://localhost:8080/",
          "height": 306
        }
      },
      "source": [
        "df['Output']"
      ],
      "execution_count": 0,
      "outputs": [
        {
          "output_type": "execute_result",
          "data": {
            "text/plain": [
              "0     {'brands': [{'1': 'paypal', '2': 'doordash'}],...\n",
              "1     {'brands': [{'1': 'paypal', '2': 'doordash'}],...\n",
              "2     {'brands': [{'1': 'sq', '2': 'seamless'}], 'st...\n",
              "3     {'brands': [{'1': 'seamless', '2': 'mcdonalds'...\n",
              "4     {'brands': [{'1': 'mcdonalds', '2': 'ubereats'...\n",
              "5     {'brands': [{'1': 'giftcard'}], 'state': 'ca',...\n",
              "6     {'brands': [{'1': 'hotels.com', '2': 'expedia'...\n",
              "7     {'brands': [{'1': 'chipotle', '2': 'postmates'...\n",
              "8     {'brands': [{'1': 'paypal', '2': 'grubhub'}], ...\n",
              "9     {'brands': [{'1': 'paypal', '2': 'ubereats'}],...\n",
              "10    {'brands': [{'1': 'sq', '2': 'doordash'}], 'st...\n",
              "11    {'brands': [{'1': 'seamless', '2': 'subway'}],...\n",
              "12    {'brands': [{'1': 'wendys', '2': 'ubereats'}],...\n",
              "13    {'brands': [{'1': 'giftcard'}], 'state': 'tx',...\n",
              "14    {'brands': [{'1': 'booking.com', '2': 'priceli...\n",
              "15    {'brands': [{'1': 'chickfila', '2': 'postmates...\n",
              "Name: Output, dtype: object"
            ]
          },
          "metadata": {
            "tags": []
          },
          "execution_count": 32
        }
      ]
    },
    {
      "cell_type": "code",
      "metadata": {
        "id": "x2ybTGGsF9Gr",
        "colab_type": "code",
        "colab": {}
      },
      "source": [
        "df = df.drop(columns =['Clean_Input']) "
      ],
      "execution_count": 0,
      "outputs": []
    },
    {
      "cell_type": "code",
      "metadata": {
        "id": "NdPNLluaHb9f",
        "colab_type": "code",
        "outputId": "2c49afb9-cd54-49e8-b3b0-f5cb1e157e37",
        "colab": {
          "base_uri": "https://localhost:8080/",
          "height": 545
        }
      },
      "source": [
        "df"
      ],
      "execution_count": 0,
      "outputs": [
        {
          "output_type": "execute_result",
          "data": {
            "text/html": [
              "<div>\n",
              "<style scoped>\n",
              "    .dataframe tbody tr th:only-of-type {\n",
              "        vertical-align: middle;\n",
              "    }\n",
              "\n",
              "    .dataframe tbody tr th {\n",
              "        vertical-align: top;\n",
              "    }\n",
              "\n",
              "    .dataframe thead th {\n",
              "        text-align: right;\n",
              "    }\n",
              "</style>\n",
              "<table border=\"1\" class=\"dataframe\">\n",
              "  <thead>\n",
              "    <tr style=\"text-align: right;\">\n",
              "      <th></th>\n",
              "      <th>Input</th>\n",
              "      <th>Output</th>\n",
              "    </tr>\n",
              "  </thead>\n",
              "  <tbody>\n",
              "    <tr>\n",
              "      <th>0</th>\n",
              "      <td>paypal * US - Doordash</td>\n",
              "      <td>{'brands': [{'1': 'paypal', '2': 'doordash'}],...</td>\n",
              "    </tr>\n",
              "    <tr>\n",
              "      <th>1</th>\n",
              "      <td>payal * US NY - Doodash</td>\n",
              "      <td>{'brands': [{'1': 'paypal', '2': 'doordash'}],...</td>\n",
              "    </tr>\n",
              "    <tr>\n",
              "      <th>2</th>\n",
              "      <td>sq* NJ SEAMLSS 2017777777</td>\n",
              "      <td>{'brands': [{'1': 'sq', '2': 'seamless'}], 'st...</td>\n",
              "    </tr>\n",
              "    <tr>\n",
              "      <th>3</th>\n",
              "      <td>SEAMLSS MCd</td>\n",
              "      <td>{'brands': [{'1': 'seamless', '2': 'mcdonalds'...</td>\n",
              "    </tr>\n",
              "    <tr>\n",
              "      <th>4</th>\n",
              "      <td>McDOnalds UBEREATS</td>\n",
              "      <td>{'brands': [{'1': 'mcdonalds', '2': 'ubereats'...</td>\n",
              "    </tr>\n",
              "    <tr>\n",
              "      <th>5</th>\n",
              "      <td>Giftcard CA US</td>\n",
              "      <td>{'brands': [{'1': 'giftcard'}], 'state': 'ca',...</td>\n",
              "    </tr>\n",
              "    <tr>\n",
              "      <th>6</th>\n",
              "      <td>Hotels.com Expedia Sheraton</td>\n",
              "      <td>{'brands': [{'1': 'hotels.com', '2': 'expedia'...</td>\n",
              "    </tr>\n",
              "    <tr>\n",
              "      <th>7</th>\n",
              "      <td>Chipotl Postmates</td>\n",
              "      <td>{'brands': [{'1': 'chipotle', '2': 'postmates'...</td>\n",
              "    </tr>\n",
              "    <tr>\n",
              "      <th>8</th>\n",
              "      <td>paypal * US - Grubhub</td>\n",
              "      <td>{'brands': [{'1': 'paypal', '2': 'grubhub'}], ...</td>\n",
              "    </tr>\n",
              "    <tr>\n",
              "      <th>9</th>\n",
              "      <td>payal * US NY - ubereats</td>\n",
              "      <td>{'brands': [{'1': 'paypal', '2': 'ubereats'}],...</td>\n",
              "    </tr>\n",
              "    <tr>\n",
              "      <th>10</th>\n",
              "      <td>sq* NJ doordash 5745745745</td>\n",
              "      <td>{'brands': [{'1': 'sq', '2': 'doordash'}], 'st...</td>\n",
              "    </tr>\n",
              "    <tr>\n",
              "      <th>11</th>\n",
              "      <td>SEAMLSS Subway</td>\n",
              "      <td>{'brands': [{'1': 'seamless', '2': 'subway'}],...</td>\n",
              "    </tr>\n",
              "    <tr>\n",
              "      <th>12</th>\n",
              "      <td>wendy's UBEREATS</td>\n",
              "      <td>{'brands': [{'1': 'wendys', '2': 'ubereats'}],...</td>\n",
              "    </tr>\n",
              "    <tr>\n",
              "      <th>13</th>\n",
              "      <td>Giftcard TX US</td>\n",
              "      <td>{'brands': [{'1': 'giftcard'}], 'state': 'tx',...</td>\n",
              "    </tr>\n",
              "    <tr>\n",
              "      <th>14</th>\n",
              "      <td>booking.com priceline marriott</td>\n",
              "      <td>{'brands': [{'1': 'booking.com', '2': 'priceli...</td>\n",
              "    </tr>\n",
              "    <tr>\n",
              "      <th>15</th>\n",
              "      <td>chickfila Postmates</td>\n",
              "      <td>{'brands': [{'1': 'chickfila', '2': 'postmates...</td>\n",
              "    </tr>\n",
              "  </tbody>\n",
              "</table>\n",
              "</div>"
            ],
            "text/plain": [
              "                             Input                                             Output\n",
              "0           paypal * US - Doordash  {'brands': [{'1': 'paypal', '2': 'doordash'}],...\n",
              "1          payal * US NY - Doodash  {'brands': [{'1': 'paypal', '2': 'doordash'}],...\n",
              "2        sq* NJ SEAMLSS 2017777777  {'brands': [{'1': 'sq', '2': 'seamless'}], 'st...\n",
              "3                      SEAMLSS MCd  {'brands': [{'1': 'seamless', '2': 'mcdonalds'...\n",
              "4               McDOnalds UBEREATS  {'brands': [{'1': 'mcdonalds', '2': 'ubereats'...\n",
              "5                   Giftcard CA US  {'brands': [{'1': 'giftcard'}], 'state': 'ca',...\n",
              "6      Hotels.com Expedia Sheraton  {'brands': [{'1': 'hotels.com', '2': 'expedia'...\n",
              "7                Chipotl Postmates  {'brands': [{'1': 'chipotle', '2': 'postmates'...\n",
              "8            paypal * US - Grubhub  {'brands': [{'1': 'paypal', '2': 'grubhub'}], ...\n",
              "9         payal * US NY - ubereats  {'brands': [{'1': 'paypal', '2': 'ubereats'}],...\n",
              "10      sq* NJ doordash 5745745745  {'brands': [{'1': 'sq', '2': 'doordash'}], 'st...\n",
              "11                  SEAMLSS Subway  {'brands': [{'1': 'seamless', '2': 'subway'}],...\n",
              "12                wendy's UBEREATS  {'brands': [{'1': 'wendys', '2': 'ubereats'}],...\n",
              "13                  Giftcard TX US  {'brands': [{'1': 'giftcard'}], 'state': 'tx',...\n",
              "14  booking.com priceline marriott  {'brands': [{'1': 'booking.com', '2': 'priceli...\n",
              "15             chickfila Postmates  {'brands': [{'1': 'chickfila', '2': 'postmates..."
            ]
          },
          "metadata": {
            "tags": []
          },
          "execution_count": 34
        }
      ]
    },
    {
      "cell_type": "markdown",
      "metadata": {
        "id": "DixTmrRf_t5C",
        "colab_type": "text"
      },
      "source": [
        "###Write output file to a CSV file"
      ]
    },
    {
      "cell_type": "code",
      "metadata": {
        "id": "leDg0IfpGiRh",
        "colab_type": "code",
        "colab": {}
      },
      "source": [
        "df.to_csv('/content/gdrive/My Drive/Affinity_solution/Affinity_result.csv', index=False)"
      ],
      "execution_count": 0,
      "outputs": []
    },
    {
      "cell_type": "markdown",
      "metadata": {
        "id": "zzepC6Og_38V",
        "colab_type": "text"
      },
      "source": [
        "###Testing output columns"
      ]
    },
    {
      "cell_type": "code",
      "metadata": {
        "id": "QQMwWN9bHObX",
        "colab_type": "code",
        "colab": {}
      },
      "source": [
        "file_path = base_dir + 'Exercise.xlsx'\n",
        "dfs = pd.read_excel(file_path, sheet_name='Transaction Description')"
      ],
      "execution_count": 0,
      "outputs": []
    },
    {
      "cell_type": "code",
      "metadata": {
        "id": "im7Jy-PV3Hts",
        "colab_type": "code",
        "outputId": "8056428d-2da5-41e1-b797-e81a328c85cb",
        "colab": {
          "base_uri": "https://localhost:8080/",
          "height": 545
        }
      },
      "source": [
        "dfs"
      ],
      "execution_count": 0,
      "outputs": [
        {
          "output_type": "execute_result",
          "data": {
            "text/html": [
              "<div>\n",
              "<style scoped>\n",
              "    .dataframe tbody tr th:only-of-type {\n",
              "        vertical-align: middle;\n",
              "    }\n",
              "\n",
              "    .dataframe tbody tr th {\n",
              "        vertical-align: top;\n",
              "    }\n",
              "\n",
              "    .dataframe thead th {\n",
              "        text-align: right;\n",
              "    }\n",
              "</style>\n",
              "<table border=\"1\" class=\"dataframe\">\n",
              "  <thead>\n",
              "    <tr style=\"text-align: right;\">\n",
              "      <th></th>\n",
              "      <th>Input</th>\n",
              "      <th>Output</th>\n",
              "    </tr>\n",
              "  </thead>\n",
              "  <tbody>\n",
              "    <tr>\n",
              "      <th>0</th>\n",
              "      <td>paypal * US - Doordash</td>\n",
              "      <td>{\"brands\":[{\"1\":\"paypal\", \"2\":\"doordash\"}], \"s...</td>\n",
              "    </tr>\n",
              "    <tr>\n",
              "      <th>1</th>\n",
              "      <td>payal * US NY - Doodash</td>\n",
              "      <td>{\"brands\":[{\"1\":\"paypal\", \"2\":\"doordash\"}], \"s...</td>\n",
              "    </tr>\n",
              "    <tr>\n",
              "      <th>2</th>\n",
              "      <td>sq* NJ SEAMLSS 2017777777</td>\n",
              "      <td>{\"brands\":[{\"1\":\"sq\", \"2\":\"seamless\"}], \"state...</td>\n",
              "    </tr>\n",
              "    <tr>\n",
              "      <th>3</th>\n",
              "      <td>SEAMLSS MCd</td>\n",
              "      <td>{\"brands\":[{\"1\":\"seamless\", \"2\":\"mcdonalds\"}],...</td>\n",
              "    </tr>\n",
              "    <tr>\n",
              "      <th>4</th>\n",
              "      <td>McDOnalds UBEREATS</td>\n",
              "      <td>{\"brands\":[{\"1\":\"mcdonalds\", \"2\":\"ubereats\"}],...</td>\n",
              "    </tr>\n",
              "    <tr>\n",
              "      <th>5</th>\n",
              "      <td>Giftcard CA US</td>\n",
              "      <td>{\"brands\":[{\"1\":\"giftcard\"}], \"state\":\"ca\", \"c...</td>\n",
              "    </tr>\n",
              "    <tr>\n",
              "      <th>6</th>\n",
              "      <td>Hotels.com Expedia Sheraton</td>\n",
              "      <td>{\"brands\":[{\"1\":\"hotels.com\", \"2\":\"expedia\", \"...</td>\n",
              "    </tr>\n",
              "    <tr>\n",
              "      <th>7</th>\n",
              "      <td>Chipotl Postmates</td>\n",
              "      <td>{\"brands\":[{\"1\":\"chipotle\", \"2\":\"postmates\"}],...</td>\n",
              "    </tr>\n",
              "    <tr>\n",
              "      <th>8</th>\n",
              "      <td>paypal * US - Grubhub</td>\n",
              "      <td>{\"brands\":[{\"1\":\"paypal\", \"2\":\"grubhub\"}], \"st...</td>\n",
              "    </tr>\n",
              "    <tr>\n",
              "      <th>9</th>\n",
              "      <td>payal * US NY - ubereats</td>\n",
              "      <td>{\"brands\":[{\"1\":\"paypal\", \"2\":\"ubereats\"}], \"s...</td>\n",
              "    </tr>\n",
              "    <tr>\n",
              "      <th>10</th>\n",
              "      <td>sq* NJ doordash 5745745745</td>\n",
              "      <td>{\"brands\":[{\"1\":\"sq\", \"2\":\"doordash\"}], \"state...</td>\n",
              "    </tr>\n",
              "    <tr>\n",
              "      <th>11</th>\n",
              "      <td>SEAMLSS Subway</td>\n",
              "      <td>{\"brands\":[{\"1\":\"seamless\", \"2\":\"subway\"}], \"s...</td>\n",
              "    </tr>\n",
              "    <tr>\n",
              "      <th>12</th>\n",
              "      <td>wendy's UBEREATS</td>\n",
              "      <td>{\"brands\":[{\"1\":\"wendys\", \"2\":\"ubereats\"}], \"s...</td>\n",
              "    </tr>\n",
              "    <tr>\n",
              "      <th>13</th>\n",
              "      <td>Giftcard TX US</td>\n",
              "      <td>{\"brands\":[{\"1\":\"giftcard\"}], \"state\":\"tx\", \"c...</td>\n",
              "    </tr>\n",
              "    <tr>\n",
              "      <th>14</th>\n",
              "      <td>booking.com priceline marriott</td>\n",
              "      <td>{\"brands\":[{\"1\":\"booking.com\", \"2\":\"priceline\"...</td>\n",
              "    </tr>\n",
              "    <tr>\n",
              "      <th>15</th>\n",
              "      <td>chickfila Postmates</td>\n",
              "      <td>{\"brands\":[{\"1\":\"chickfila\", \"2\":\"postmates\"}]...</td>\n",
              "    </tr>\n",
              "  </tbody>\n",
              "</table>\n",
              "</div>"
            ],
            "text/plain": [
              "                             Input                                             Output\n",
              "0           paypal * US - Doordash  {\"brands\":[{\"1\":\"paypal\", \"2\":\"doordash\"}], \"s...\n",
              "1          payal * US NY - Doodash  {\"brands\":[{\"1\":\"paypal\", \"2\":\"doordash\"}], \"s...\n",
              "2        sq* NJ SEAMLSS 2017777777  {\"brands\":[{\"1\":\"sq\", \"2\":\"seamless\"}], \"state...\n",
              "3                      SEAMLSS MCd  {\"brands\":[{\"1\":\"seamless\", \"2\":\"mcdonalds\"}],...\n",
              "4               McDOnalds UBEREATS  {\"brands\":[{\"1\":\"mcdonalds\", \"2\":\"ubereats\"}],...\n",
              "5                   Giftcard CA US  {\"brands\":[{\"1\":\"giftcard\"}], \"state\":\"ca\", \"c...\n",
              "6      Hotels.com Expedia Sheraton  {\"brands\":[{\"1\":\"hotels.com\", \"2\":\"expedia\", \"...\n",
              "7                Chipotl Postmates  {\"brands\":[{\"1\":\"chipotle\", \"2\":\"postmates\"}],...\n",
              "8            paypal * US - Grubhub  {\"brands\":[{\"1\":\"paypal\", \"2\":\"grubhub\"}], \"st...\n",
              "9         payal * US NY - ubereats  {\"brands\":[{\"1\":\"paypal\", \"2\":\"ubereats\"}], \"s...\n",
              "10      sq* NJ doordash 5745745745  {\"brands\":[{\"1\":\"sq\", \"2\":\"doordash\"}], \"state...\n",
              "11                  SEAMLSS Subway  {\"brands\":[{\"1\":\"seamless\", \"2\":\"subway\"}], \"s...\n",
              "12                wendy's UBEREATS  {\"brands\":[{\"1\":\"wendys\", \"2\":\"ubereats\"}], \"s...\n",
              "13                  Giftcard TX US  {\"brands\":[{\"1\":\"giftcard\"}], \"state\":\"tx\", \"c...\n",
              "14  booking.com priceline marriott  {\"brands\":[{\"1\":\"booking.com\", \"2\":\"priceline\"...\n",
              "15             chickfila Postmates  {\"brands\":[{\"1\":\"chickfila\", \"2\":\"postmates\"}]..."
            ]
          },
          "metadata": {
            "tags": []
          },
          "execution_count": 38
        }
      ]
    },
    {
      "cell_type": "code",
      "metadata": {
        "id": "FBsgyELfBHSM",
        "colab_type": "code",
        "outputId": "4fb8bb55-dc9a-4529-a54f-6d31adbf60c3",
        "colab": {
          "base_uri": "https://localhost:8080/",
          "height": 545
        }
      },
      "source": [
        "df"
      ],
      "execution_count": 0,
      "outputs": [
        {
          "output_type": "execute_result",
          "data": {
            "text/html": [
              "<div>\n",
              "<style scoped>\n",
              "    .dataframe tbody tr th:only-of-type {\n",
              "        vertical-align: middle;\n",
              "    }\n",
              "\n",
              "    .dataframe tbody tr th {\n",
              "        vertical-align: top;\n",
              "    }\n",
              "\n",
              "    .dataframe thead th {\n",
              "        text-align: right;\n",
              "    }\n",
              "</style>\n",
              "<table border=\"1\" class=\"dataframe\">\n",
              "  <thead>\n",
              "    <tr style=\"text-align: right;\">\n",
              "      <th></th>\n",
              "      <th>Input</th>\n",
              "      <th>Output</th>\n",
              "    </tr>\n",
              "  </thead>\n",
              "  <tbody>\n",
              "    <tr>\n",
              "      <th>0</th>\n",
              "      <td>paypal * US - Doordash</td>\n",
              "      <td>{'brands': [{'1': 'paypal', '2': 'doordash'}],...</td>\n",
              "    </tr>\n",
              "    <tr>\n",
              "      <th>1</th>\n",
              "      <td>payal * US NY - Doodash</td>\n",
              "      <td>{'brands': [{'1': 'paypal', '2': 'doordash'}],...</td>\n",
              "    </tr>\n",
              "    <tr>\n",
              "      <th>2</th>\n",
              "      <td>sq* NJ SEAMLSS 2017777777</td>\n",
              "      <td>{'brands': [{'1': 'sq', '2': 'seamless'}], 'st...</td>\n",
              "    </tr>\n",
              "    <tr>\n",
              "      <th>3</th>\n",
              "      <td>SEAMLSS MCd</td>\n",
              "      <td>{'brands': [{'1': 'seamless', '2': 'mcdonalds'...</td>\n",
              "    </tr>\n",
              "    <tr>\n",
              "      <th>4</th>\n",
              "      <td>McDOnalds UBEREATS</td>\n",
              "      <td>{'brands': [{'1': 'mcdonalds', '2': 'ubereats'...</td>\n",
              "    </tr>\n",
              "    <tr>\n",
              "      <th>5</th>\n",
              "      <td>Giftcard CA US</td>\n",
              "      <td>{'brands': [{'1': 'giftcard'}], 'state': 'ca',...</td>\n",
              "    </tr>\n",
              "    <tr>\n",
              "      <th>6</th>\n",
              "      <td>Hotels.com Expedia Sheraton</td>\n",
              "      <td>{'brands': [{'1': 'hotels.com', '2': 'expedia'...</td>\n",
              "    </tr>\n",
              "    <tr>\n",
              "      <th>7</th>\n",
              "      <td>Chipotl Postmates</td>\n",
              "      <td>{'brands': [{'1': 'chipotle', '2': 'postmates'...</td>\n",
              "    </tr>\n",
              "    <tr>\n",
              "      <th>8</th>\n",
              "      <td>paypal * US - Grubhub</td>\n",
              "      <td>{'brands': [{'1': 'paypal', '2': 'grubhub'}], ...</td>\n",
              "    </tr>\n",
              "    <tr>\n",
              "      <th>9</th>\n",
              "      <td>payal * US NY - ubereats</td>\n",
              "      <td>{'brands': [{'1': 'paypal', '2': 'ubereats'}],...</td>\n",
              "    </tr>\n",
              "    <tr>\n",
              "      <th>10</th>\n",
              "      <td>sq* NJ doordash 5745745745</td>\n",
              "      <td>{'brands': [{'1': 'sq', '2': 'doordash'}], 'st...</td>\n",
              "    </tr>\n",
              "    <tr>\n",
              "      <th>11</th>\n",
              "      <td>SEAMLSS Subway</td>\n",
              "      <td>{'brands': [{'1': 'seamless', '2': 'subway'}],...</td>\n",
              "    </tr>\n",
              "    <tr>\n",
              "      <th>12</th>\n",
              "      <td>wendy's UBEREATS</td>\n",
              "      <td>{'brands': [{'1': 'wendys', '2': 'ubereats'}],...</td>\n",
              "    </tr>\n",
              "    <tr>\n",
              "      <th>13</th>\n",
              "      <td>Giftcard TX US</td>\n",
              "      <td>{'brands': [{'1': 'giftcard'}], 'state': 'tx',...</td>\n",
              "    </tr>\n",
              "    <tr>\n",
              "      <th>14</th>\n",
              "      <td>booking.com priceline marriott</td>\n",
              "      <td>{'brands': [{'1': 'booking.com', '2': 'priceli...</td>\n",
              "    </tr>\n",
              "    <tr>\n",
              "      <th>15</th>\n",
              "      <td>chickfila Postmates</td>\n",
              "      <td>{'brands': [{'1': 'chickfila', '2': 'postmates...</td>\n",
              "    </tr>\n",
              "  </tbody>\n",
              "</table>\n",
              "</div>"
            ],
            "text/plain": [
              "                             Input                                             Output\n",
              "0           paypal * US - Doordash  {'brands': [{'1': 'paypal', '2': 'doordash'}],...\n",
              "1          payal * US NY - Doodash  {'brands': [{'1': 'paypal', '2': 'doordash'}],...\n",
              "2        sq* NJ SEAMLSS 2017777777  {'brands': [{'1': 'sq', '2': 'seamless'}], 'st...\n",
              "3                      SEAMLSS MCd  {'brands': [{'1': 'seamless', '2': 'mcdonalds'...\n",
              "4               McDOnalds UBEREATS  {'brands': [{'1': 'mcdonalds', '2': 'ubereats'...\n",
              "5                   Giftcard CA US  {'brands': [{'1': 'giftcard'}], 'state': 'ca',...\n",
              "6      Hotels.com Expedia Sheraton  {'brands': [{'1': 'hotels.com', '2': 'expedia'...\n",
              "7                Chipotl Postmates  {'brands': [{'1': 'chipotle', '2': 'postmates'...\n",
              "8            paypal * US - Grubhub  {'brands': [{'1': 'paypal', '2': 'grubhub'}], ...\n",
              "9         payal * US NY - ubereats  {'brands': [{'1': 'paypal', '2': 'ubereats'}],...\n",
              "10      sq* NJ doordash 5745745745  {'brands': [{'1': 'sq', '2': 'doordash'}], 'st...\n",
              "11                  SEAMLSS Subway  {'brands': [{'1': 'seamless', '2': 'subway'}],...\n",
              "12                wendy's UBEREATS  {'brands': [{'1': 'wendys', '2': 'ubereats'}],...\n",
              "13                  Giftcard TX US  {'brands': [{'1': 'giftcard'}], 'state': 'tx',...\n",
              "14  booking.com priceline marriott  {'brands': [{'1': 'booking.com', '2': 'priceli...\n",
              "15             chickfila Postmates  {'brands': [{'1': 'chickfila', '2': 'postmates..."
            ]
          },
          "metadata": {
            "tags": []
          },
          "execution_count": 39
        }
      ]
    },
    {
      "cell_type": "markdown",
      "metadata": {
        "id": "PuJBdmN6A9iB",
        "colab_type": "text"
      },
      "source": [
        "###Displays a error message when there is mismatch between two output columns"
      ]
    },
    {
      "cell_type": "code",
      "metadata": {
        "id": "KDjn0OxP4Hl7",
        "colab_type": "code",
        "colab": {}
      },
      "source": [
        "import json\n",
        "lth = len(df['Output'])\n",
        "for row in range(lth) :\n",
        "  exp = json.loads(dfs['Output'][row])\n",
        "  for item in ['state','ph no','country','brands'] :\n",
        "    if not (df['Output'][row][item] == exp[item]) :\n",
        "      print(\"Row \",row,\" is not equal for field\", item)\n",
        "  "
      ],
      "execution_count": 0,
      "outputs": []
    },
    {
      "cell_type": "code",
      "metadata": {
        "id": "b8wsfbQlOly3",
        "colab_type": "code",
        "colab": {}
      },
      "source": [
        ""
      ],
      "execution_count": 0,
      "outputs": []
    }
  ]
}